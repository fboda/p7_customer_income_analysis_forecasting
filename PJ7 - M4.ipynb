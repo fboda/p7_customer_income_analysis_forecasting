{
 "cells": [
  {
   "cell_type": "markdown",
   "metadata": {},
   "source": [
    "<hr style=\"height: 4px; color: #839D2D; width: 100%; \">\n",
    "\n",
    "# <font color='#61210B'>Formation OpenClassRooms   -   Parcours DATA ANALYST</font>\n",
    "\n",
    "<hr style=\"height: 2px; color: #839D2D; width: 100%; \">\n",
    "\n",
    "## <font color='#38610B'>Projet VII - Prédictions de Revenus</font>\n",
    "\n",
    "\n",
    "#### Mission 4 - ANOVA & Régressions Linéaires\n",
    "\n",
    "<u>DataFrames pandas utilisés et critères de téléchargement</u> :  \n",
    "\n",
    "* <font color='#013ADF'>DataFrames <strong>pj7 & wid500</strong></font> : Fichier enrichi, nettoyé avec datas de wid, gini , pop  & gdim et creation de 500 clones.  \n",
    "\n",
    " Dataframes issus des l'études précédentes.\n",
    "\n",
    "  \n",
    "**<font color='#38610B'>- Date : 5 Aout 2019</font>**  \n",
    "Auteur : Frédéric Boissy\n",
    "<hr style=\"height: 4px; color: #839D2D; width: 100%; \">\n"
   ]
  },
  {
   "cell_type": "markdown",
   "metadata": {},
   "source": [
    "#### Initialisation (Libraries - Functions - etc...)"
   ]
  },
  {
   "cell_type": "code",
   "execution_count": 1,
   "metadata": {},
   "outputs": [],
   "source": [
    "import time   # Librairie temps pour calculs durée par exemple\n",
    "trt_start_time = time.time()\n",
    "\n",
    "# -*- coding: utf8 -*-\n",
    "from init_libraries import *\n",
    "# /////  Pour executer des requetes SQL de verification sur des DF  /////\n",
    "from pandasql            import sqldf\n",
    "execsql = lambda q: sqldf(q, globals())   \n",
    "\n",
    "\n",
    "# Limiter le nombre de lignes d'affichage des Dataframes\n",
    "pd.options.display.max_rows=10"
   ]
  },
  {
   "cell_type": "markdown",
   "metadata": {},
   "source": [
    "#### DEBUGGER python\n",
    "Ajout de ligne BKP avec commande breakpoint() à l'endroit désiré.  \n",
    "* Actions autorisées : c/n/s/q\n",
    "    * c - continue execution\n",
    "    * n - step to the next line within the same function\n",
    "    * s - step to the next line in this function or a called function\n",
    "    * q - quit the debugger/execution\n"
   ]
  },
  {
   "cell_type": "code",
   "execution_count": 2,
   "metadata": {},
   "outputs": [],
   "source": [
    "import pdb\n",
    "# breakpoint()"
   ]
  },
  {
   "cell_type": "markdown",
   "metadata": {},
   "source": [
    "<hr style=\"height: 1px; color: #E0ECF8; width: 100%; \">\n",
    "\n",
    "### <font color=\"darkblue\"> Data \"pj7\" enrichi de l'etude précédente</font>   \n",
    "- <b>Données etape2, avec variables gini, income, mais sans classe parents</b>"
   ]
  },
  {
   "cell_type": "code",
   "execution_count": 3,
   "metadata": {
    "scrolled": false
   },
   "outputs": [
    {
     "name": "stdout",
     "output_type": "stream",
     "text": [
      "<class 'pandas.core.frame.DataFrame'>\n",
      "RangeIndex: 11200 entries, 0 to 11199\n",
      "Data columns (total 6 columns):\n",
      "country_code    11200 non-null object\n",
      "c_i_child       11200 non-null int64\n",
      "pj              11200 non-null float64\n",
      "income          11200 non-null float64\n",
      "gini            11200 non-null float64\n",
      "gdpppp          11200 non-null float64\n",
      "dtypes: float64(4), int64(1), object(1)\n",
      "memory usage: 525.1+ KB\n",
      "Dimension Tableau :  (11200, 6)   ///  Nombre de Pays : 112.0   ///\n"
     ]
    },
    {
     "data": {
      "text/html": [
       "<div>\n",
       "<style scoped>\n",
       "    .dataframe tbody tr th:only-of-type {\n",
       "        vertical-align: middle;\n",
       "    }\n",
       "\n",
       "    .dataframe tbody tr th {\n",
       "        vertical-align: top;\n",
       "    }\n",
       "\n",
       "    .dataframe thead th {\n",
       "        text-align: right;\n",
       "    }\n",
       "</style>\n",
       "<table border=\"1\" class=\"dataframe\">\n",
       "  <thead>\n",
       "    <tr style=\"text-align: right;\">\n",
       "      <th></th>\n",
       "      <th>country_code</th>\n",
       "      <th>c_i_child</th>\n",
       "      <th>pj</th>\n",
       "      <th>income</th>\n",
       "      <th>gini</th>\n",
       "      <th>gdpppp</th>\n",
       "    </tr>\n",
       "  </thead>\n",
       "  <tbody>\n",
       "    <tr>\n",
       "      <th>0</th>\n",
       "      <td>ALB</td>\n",
       "      <td>1</td>\n",
       "      <td>0.816</td>\n",
       "      <td>728.898</td>\n",
       "      <td>30.300</td>\n",
       "      <td>7,297.000</td>\n",
       "    </tr>\n",
       "    <tr>\n",
       "      <th>1</th>\n",
       "      <td>ALB</td>\n",
       "      <td>2</td>\n",
       "      <td>0.816</td>\n",
       "      <td>916.662</td>\n",
       "      <td>30.300</td>\n",
       "      <td>7,297.000</td>\n",
       "    </tr>\n",
       "    <tr>\n",
       "      <th>2</th>\n",
       "      <td>ALB</td>\n",
       "      <td>3</td>\n",
       "      <td>0.816</td>\n",
       "      <td>1,010.916</td>\n",
       "      <td>30.300</td>\n",
       "      <td>7,297.000</td>\n",
       "    </tr>\n",
       "    <tr>\n",
       "      <th>3</th>\n",
       "      <td>ALB</td>\n",
       "      <td>4</td>\n",
       "      <td>0.816</td>\n",
       "      <td>1,086.908</td>\n",
       "      <td>30.300</td>\n",
       "      <td>7,297.000</td>\n",
       "    </tr>\n",
       "    <tr>\n",
       "      <th>4</th>\n",
       "      <td>ALB</td>\n",
       "      <td>5</td>\n",
       "      <td>0.816</td>\n",
       "      <td>1,132.700</td>\n",
       "      <td>30.300</td>\n",
       "      <td>7,297.000</td>\n",
       "    </tr>\n",
       "  </tbody>\n",
       "</table>\n",
       "</div>"
      ],
      "text/plain": [
       "  country_code  c_i_child    pj    income   gini    gdpppp\n",
       "0          ALB          1 0.816   728.898 30.300 7,297.000\n",
       "1          ALB          2 0.816   916.662 30.300 7,297.000\n",
       "2          ALB          3 0.816 1,010.916 30.300 7,297.000\n",
       "3          ALB          4 0.816 1,086.908 30.300 7,297.000\n",
       "4          ALB          5 0.816 1,132.700 30.300 7,297.000"
      ]
     },
     "execution_count": 3,
     "metadata": {},
     "output_type": "execute_result"
    }
   ],
   "source": [
    "pj7 = pd.read_csv(\"OUTFILES/pj7_m3.csv\")\n",
    "pj7.info()\n",
    "print(\"Dimension Tableau : \", pj7.shape, \"  ///  Nombre de Pays :\", pj7.shape[0]/(100), \"  ///\")\n",
    "pj7.head()"
   ]
  },
  {
   "cell_type": "markdown",
   "metadata": {},
   "source": [
    "<hr style=\"height: 1px; color: #E0ECF8; width: 100%; \">\n",
    "\n",
    "### <font color=\"darkblue\"> Dataframe \"wid500\" enrichi de l'etude précédente</font>   \n",
    "- <b>avec les 500 clones + la variable classe_parent</b>"
   ]
  },
  {
   "cell_type": "code",
   "execution_count": 4,
   "metadata": {},
   "outputs": [
    {
     "name": "stdout",
     "output_type": "stream",
     "text": [
      "Dimension Tableau :  (5600000, 7)   ///  Nombre de Pays : 112.0   ///\n"
     ]
    },
    {
     "data": {
      "text/html": [
       "<div>\n",
       "<style scoped>\n",
       "    .dataframe tbody tr th:only-of-type {\n",
       "        vertical-align: middle;\n",
       "    }\n",
       "\n",
       "    .dataframe tbody tr th {\n",
       "        vertical-align: top;\n",
       "    }\n",
       "\n",
       "    .dataframe thead th {\n",
       "        text-align: right;\n",
       "    }\n",
       "</style>\n",
       "<table border=\"1\" class=\"dataframe\">\n",
       "  <thead>\n",
       "    <tr style=\"text-align: right;\">\n",
       "      <th></th>\n",
       "      <th>country_code</th>\n",
       "      <th>c_i_child</th>\n",
       "      <th>pj</th>\n",
       "      <th>income</th>\n",
       "      <th>gini</th>\n",
       "      <th>gdpppp</th>\n",
       "      <th>c_i_parent</th>\n",
       "    </tr>\n",
       "  </thead>\n",
       "  <tbody>\n",
       "    <tr>\n",
       "      <th>0</th>\n",
       "      <td>ALB</td>\n",
       "      <td>1</td>\n",
       "      <td>0.816</td>\n",
       "      <td>728.898</td>\n",
       "      <td>30.300</td>\n",
       "      <td>7,297.000</td>\n",
       "      <td>1</td>\n",
       "    </tr>\n",
       "    <tr>\n",
       "      <th>1</th>\n",
       "      <td>ALB</td>\n",
       "      <td>1</td>\n",
       "      <td>0.816</td>\n",
       "      <td>728.898</td>\n",
       "      <td>30.300</td>\n",
       "      <td>7,297.000</td>\n",
       "      <td>1</td>\n",
       "    </tr>\n",
       "    <tr>\n",
       "      <th>2</th>\n",
       "      <td>ALB</td>\n",
       "      <td>1</td>\n",
       "      <td>0.816</td>\n",
       "      <td>728.898</td>\n",
       "      <td>30.300</td>\n",
       "      <td>7,297.000</td>\n",
       "      <td>1</td>\n",
       "    </tr>\n",
       "    <tr>\n",
       "      <th>3</th>\n",
       "      <td>ALB</td>\n",
       "      <td>1</td>\n",
       "      <td>0.816</td>\n",
       "      <td>728.898</td>\n",
       "      <td>30.300</td>\n",
       "      <td>7,297.000</td>\n",
       "      <td>1</td>\n",
       "    </tr>\n",
       "    <tr>\n",
       "      <th>4</th>\n",
       "      <td>ALB</td>\n",
       "      <td>1</td>\n",
       "      <td>0.816</td>\n",
       "      <td>728.898</td>\n",
       "      <td>30.300</td>\n",
       "      <td>7,297.000</td>\n",
       "      <td>1</td>\n",
       "    </tr>\n",
       "  </tbody>\n",
       "</table>\n",
       "</div>"
      ],
      "text/plain": [
       "  country_code  c_i_child    pj  income   gini    gdpppp  c_i_parent\n",
       "0          ALB          1 0.816 728.898 30.300 7,297.000           1\n",
       "1          ALB          1 0.816 728.898 30.300 7,297.000           1\n",
       "2          ALB          1 0.816 728.898 30.300 7,297.000           1\n",
       "3          ALB          1 0.816 728.898 30.300 7,297.000           1\n",
       "4          ALB          1 0.816 728.898 30.300 7,297.000           1"
      ]
     },
     "execution_count": 4,
     "metadata": {},
     "output_type": "execute_result"
    }
   ],
   "source": [
    "# wid = pd.read_csv(\"OUTFILES/wid500.csv\")\n",
    "wid = pd.read_csv(\"OUTFILES/wid500.zip\")\n",
    "print(\"Dimension Tableau : \", wid.shape, \"  ///  Nombre de Pays :\", wid.shape[0]/(100*500), \"  ///\")\n",
    "wid.head()"
   ]
  },
  {
   "cell_type": "code",
   "execution_count": 5,
   "metadata": {
    "scrolled": true
   },
   "outputs": [
    {
     "data": {
      "text/html": [
       "<div>\n",
       "<style scoped>\n",
       "    .dataframe tbody tr th:only-of-type {\n",
       "        vertical-align: middle;\n",
       "    }\n",
       "\n",
       "    .dataframe tbody tr th {\n",
       "        vertical-align: top;\n",
       "    }\n",
       "\n",
       "    .dataframe thead th {\n",
       "        text-align: right;\n",
       "    }\n",
       "</style>\n",
       "<table border=\"1\" class=\"dataframe\">\n",
       "  <thead>\n",
       "    <tr style=\"text-align: right;\">\n",
       "      <th></th>\n",
       "      <th>sum(nb)</th>\n",
       "    </tr>\n",
       "  </thead>\n",
       "  <tbody>\n",
       "    <tr>\n",
       "      <th>0</th>\n",
       "      <td>50000</td>\n",
       "    </tr>\n",
       "  </tbody>\n",
       "</table>\n",
       "</div>"
      ],
      "text/plain": [
       "   sum(nb)\n",
       "0    50000"
      ]
     },
     "execution_count": 5,
     "metadata": {},
     "output_type": "execute_result"
    }
   ],
   "source": [
    "widALB = wid[wid['country_code'] == 'ALB']\n",
    "req='''\n",
    "With T1 as (\n",
    "Select c_i_child, c_i_parent, count(*) as nb\n",
    "from widALB\n",
    "group by c_i_child, c_i_parent)\n",
    "Select sum(nb) from T1\n",
    "'''\n",
    "df1 = execsql(req)\n",
    "df1"
   ]
  },
  {
   "cell_type": "markdown",
   "metadata": {},
   "source": [
    "#### A ce stade, et pour éviter toute confusion, je retire la variable  <font color=\"darkblue\" size=4>$C_{(i,child)}$ : </font>\n",
    "Elle ne nous sera pas utile dans cette partie."
   ]
  },
  {
   "cell_type": "code",
   "execution_count": 6,
   "metadata": {},
   "outputs": [],
   "source": [
    "try:\n",
    "    pj7.drop(columns=['c_i_child'], inplace=True)\n",
    "    wid.drop(columns=['c_i_child'], inplace=True)\n",
    "except KeyError:\n",
    "    print(\"Suppression deja faite\")"
   ]
  },
  {
   "cell_type": "markdown",
   "metadata": {},
   "source": [
    "<hr style=\"height: 4px; color: #839D2D; width: 100%; \">\n",
    "\n",
    "### OBJECTIF  ETUDE\n",
    "\n",
    "<font color=\"darkblue\" size=3>  \n",
    "Expliquer le <b>revenu des individus</b> en fonction de plusieurs <b>variables explicatives (facteurs)</b> :    \n",
    "<i>\n",
    "* le pays de l'individu\n",
    "* l'indice de Gini de ce pays\n",
    "* la classe de revenus des parents, etc.\n",
    "</font></i>"
   ]
  },
  {
   "cell_type": "code",
   "execution_count": 7,
   "metadata": {},
   "outputs": [],
   "source": [
    "lib_pays = [\"Iceland\", \"France\", \"Slovenia\", \"Argentina\", \"Honduras\", \"Indonesia\"]\n",
    "cod_pays = [\"ISL\", \"FRA\", \"SVN\", \"ARG\", \"HND\", \"IDN\"]\n",
    "col_pays = [\"#8000FF\", \"#0040FF\", \"#DF7401\", \"#81DAF5\", \"green\", \"red\"]"
   ]
  },
  {
   "cell_type": "markdown",
   "metadata": {},
   "source": [
    "<hr style=\"height: 3px; color: #839D2D; width: 100%; \">\n",
    "\n",
    "##  <font color='#61210B'><u>M4 - ANOVA</u></font>\n",
    "\n",
    "- Le test <b>d'ANOVA</b> (analyse de la variance) ou <b>R² (η²)</b> permet de savoir si une donnée qualitative et une donnée quantitative sont corrélées.   \n",
    "Le résultat obtenu est compris entre <b>0</b> et <b>1</b>. Plus il est proche de 1 plus les données sont corrélées..\n",
    "> <img src=\"DATA/images/Formule%20Anova&%20Coeff_R2.png\" width=\"700\">\n",
    "\n",
    "* <b>SCT</b> (Somme des Carrés Totale) traduit la <b>variation totale</b> de Y.  \n",
    "* <b>SCE</b> (Somme des Carrés Expliquée) traduit la <b>variation interclasse</b> (expliquée par le modèle).  \n",
    "* <b>SCR</b> (Somme des Carrés Résiduelle) traduit la <b>variation intraclasse</b> (inexpliquée par le modèle, erreurs).  \n",
    "  \n",
    "\n",
    "Si $R^2 = 1$ , on a alors SCE=SCT : toute la variation est expliquée par le modèle.  \n",
    "Si $R^2 = 0$ , on a alors SCR=SCT : aucune variation n'est expliquée par le modèle."
   ]
  },
  {
   "cell_type": "markdown",
   "metadata": {},
   "source": [
    "<img src=\"DATA/images/Analyse_Variance.png\" width=\"800\" align=left>\n"
   ]
  },
  {
   "cell_type": "markdown",
   "metadata": {},
   "source": [
    "### On cherche à expliquer le revenu des enfants en utilisant le \"PAYS\" comme variable explicative.\n",
    "\n",
    "Existe-t-il une dépendance entre le revenus et le pays.  \n",
    "En d'autres termes, on cherche à savoir s'il y a une différence statistiquement significative entre les moyennes des revenus des pays par exemple."
   ]
  },
  {
   "cell_type": "code",
   "execution_count": 8,
   "metadata": {},
   "outputs": [
    {
     "data": {
      "image/png": "[encoded data removed]",
      "text/plain": [
       "<Figure size 1080x360 with 2 Axes>"
      ]
     },
     "metadata": {},
     "output_type": "display_data"
    }
   ],
   "source": [
    "sns.set_style(\"ticks\")\n",
    "plt.figure(figsize=(15,5))\n",
    "\n",
    "plt.subplot(1, 2, 1)\n",
    "ax1 = sns.distplot(pj7['income'])\n",
    "# sns.scatterplot(y=df['country_code'], x=df['revenu_moy'], data=df)\n",
    "plt.title(\"Distribution des Revenus\", fontsize=15, color='darkblue', y=1.05)\n",
    "plt.yticks([])\n",
    "plt.xlabel(\"Revenu ($)\")\n",
    "plt.ylabel(\"Nombre individus\")\n",
    "ax1.grid(color=\"black\", linestyle=':', linewidth=0.5)\n",
    "\n",
    "plt.subplot(1, 2, 2)\n",
    "mean_marker = {\"marker\":\"o\",\"markerfacecolor\":\"white\", \"markeredgecolor\":\"grey\"}\n",
    "x = pj7['income']\n",
    "ax2 = sns.boxplot(x, data=pj7, showmeans=True, meanprops=mean_marker, hue=x, dodge=False, \n",
    "                  showfliers=True) # palette='Set1')\n",
    "ax2.grid(color=\"black\", linestyle=':', linewidth=0.5)\n",
    "plt.title(\"Distribution des Revenus\", fontsize=15, color='darkblue', y=1.05)\n",
    "plt.xlabel(\"Revenu ($)\")\n",
    "\n",
    "plt.savefig('OUTFILES/M4-Dist_revenus.png', dpi=100, bbox_inches='tight')\n",
    "plt.show()\n",
    "plt.close()"
   ]
  },
  {
   "cell_type": "markdown",
   "metadata": {},
   "source": [
    "<font color=\"darkblue\" size=4>Le passage au Logarithme  $=>$  Rend la distribution <b>\"normale (gaussienne)\"</b></font>\n",
    "\n",
    "Nous verrons par la suite ce que cela implique lors d'une régression linéaire."
   ]
  },
  {
   "cell_type": "code",
   "execution_count": 9,
   "metadata": {},
   "outputs": [
    {
     "data": {
      "image/png": "[encoded data removed]",
      "text/plain": [
       "<Figure size 1080x360 with 2 Axes>"
      ]
     },
     "metadata": {},
     "output_type": "display_data"
    }
   ],
   "source": [
    "sns.set_style(\"ticks\")\n",
    "plt.figure(figsize=(15,5))\n",
    "\n",
    "plt.subplot(1, 2, 1)\n",
    "ax1 = sns.distplot(np.log(pj7['income']), color='brown')\n",
    "# sns.scatterplot(y=df['country_code'], x=df['revenu_moy'], data=df)\n",
    "plt.title(\"Distribution des Revenus (LOG)\", fontsize=15, color='brown', y=1.05)\n",
    "plt.yticks([])\n",
    "plt.xlabel(\"LOG Revenu\")\n",
    "plt.ylabel(\"Nombre individus\")\n",
    "ax1.grid(color=\"black\", linestyle=':', linewidth=0.5)\n",
    "\n",
    "\n",
    "plt.subplot(1, 2, 2)\n",
    "x = np.log(pj7['income'])\n",
    "ax2 = sns.boxplot(x, data=pj7, showmeans=True, meanprops=mean_marker, hue=x, dodge=False, \n",
    "                 showfliers=True, palette='Set1')\n",
    "plt.title(\"Distribution des Revenus (LOG)\", fontsize=15, color='brown', y=1.05)\n",
    "plt.xlabel(\"LOG Revenu\")\n",
    "ax2.grid(color=\"black\", linestyle=':', linewidth=0.5)\n",
    "\n",
    "plt.savefig('OUTFILES/M4-Dist_revenus_log.png', dpi=100, bbox_inches='tight')\n",
    "plt.show()\n",
    "plt.close()"
   ]
  },
  {
   "cell_type": "code",
   "execution_count": 10,
   "metadata": {
    "scrolled": true
   },
   "outputs": [
    {
     "data": {
      "text/html": [
       "<div>\n",
       "<style scoped>\n",
       "    .dataframe tbody tr th:only-of-type {\n",
       "        vertical-align: middle;\n",
       "    }\n",
       "\n",
       "    .dataframe tbody tr th {\n",
       "        vertical-align: top;\n",
       "    }\n",
       "\n",
       "    .dataframe thead th {\n",
       "        text-align: right;\n",
       "    }\n",
       "</style>\n",
       "<table border=\"1\" class=\"dataframe\">\n",
       "  <thead>\n",
       "    <tr style=\"text-align: right;\">\n",
       "      <th></th>\n",
       "      <th>country_code</th>\n",
       "      <th>pj</th>\n",
       "      <th>income</th>\n",
       "      <th>gini</th>\n",
       "      <th>gdpppp</th>\n",
       "    </tr>\n",
       "  </thead>\n",
       "  <tbody>\n",
       "    <tr>\n",
       "      <th>0</th>\n",
       "      <td>ALB</td>\n",
       "      <td>0.816</td>\n",
       "      <td>728.898</td>\n",
       "      <td>30.300</td>\n",
       "      <td>7,297.000</td>\n",
       "    </tr>\n",
       "    <tr>\n",
       "      <th>1</th>\n",
       "      <td>ALB</td>\n",
       "      <td>0.816</td>\n",
       "      <td>916.662</td>\n",
       "      <td>30.300</td>\n",
       "      <td>7,297.000</td>\n",
       "    </tr>\n",
       "    <tr>\n",
       "      <th>2</th>\n",
       "      <td>ALB</td>\n",
       "      <td>0.816</td>\n",
       "      <td>1,010.916</td>\n",
       "      <td>30.300</td>\n",
       "      <td>7,297.000</td>\n",
       "    </tr>\n",
       "    <tr>\n",
       "      <th>3</th>\n",
       "      <td>ALB</td>\n",
       "      <td>0.816</td>\n",
       "      <td>1,086.908</td>\n",
       "      <td>30.300</td>\n",
       "      <td>7,297.000</td>\n",
       "    </tr>\n",
       "    <tr>\n",
       "      <th>4</th>\n",
       "      <td>ALB</td>\n",
       "      <td>0.816</td>\n",
       "      <td>1,132.700</td>\n",
       "      <td>30.300</td>\n",
       "      <td>7,297.000</td>\n",
       "    </tr>\n",
       "  </tbody>\n",
       "</table>\n",
       "</div>"
      ],
      "text/plain": [
       "  country_code    pj    income   gini    gdpppp\n",
       "0          ALB 0.816   728.898 30.300 7,297.000\n",
       "1          ALB 0.816   916.662 30.300 7,297.000\n",
       "2          ALB 0.816 1,010.916 30.300 7,297.000\n",
       "3          ALB 0.816 1,086.908 30.300 7,297.000\n",
       "4          ALB 0.816 1,132.700 30.300 7,297.000"
      ]
     },
     "execution_count": 10,
     "metadata": {},
     "output_type": "execute_result"
    }
   ],
   "source": [
    "pj7.head()"
   ]
  },
  {
   "cell_type": "markdown",
   "metadata": {},
   "source": [
    "### Avec la fonction de la librairie \"statsmodel\" :  smf.OLS"
   ]
  },
  {
   "cell_type": "code",
   "execution_count": 11,
   "metadata": {
    "scrolled": true
   },
   "outputs": [
    {
     "name": "stdout",
     "output_type": "stream",
     "text": [
      "                            OLS Regression Results                            \n",
      "==============================================================================\n",
      "Dep. Variable:                 income   R-squared:                       0.494\n",
      "Model:                            OLS   Adj. R-squared:                  0.489\n",
      "Method:                 Least Squares   F-statistic:                     97.55\n",
      "Date:                Thu, 21 May 2020   Prob (F-statistic):               0.00\n",
      "Time:                        18:30:58   Log-Likelihood:            -1.1458e+05\n",
      "No. Observations:               11200   AIC:                         2.294e+05\n",
      "Df Residuals:                   11088   BIC:                         2.302e+05\n",
      "Df Model:                         111                                         \n",
      "Covariance Type:            nonrobust                                         \n",
      "=======================================================================================\n",
      "                          coef    std err          t      P>|t|      [0.025      0.975]\n",
      "---------------------------------------------------------------------------------------\n",
      "Intercept            2994.8299    674.659      4.439      0.000    1672.378    4317.282\n",
      "country_code[T.ARG]  2853.0548    954.112      2.990      0.003     982.825    4723.285\n",
      "country_code[T.ARM] -1366.4471    954.112     -1.432      0.152   -3236.677     503.783\n",
      "country_code[T.AUT]  1.364e+04    954.112     14.299      0.000    1.18e+04    1.55e+04\n",
      "country_code[T.AZE]  -637.4009    954.112     -0.668      0.504   -2507.631    1232.829\n",
      "country_code[T.BEL]  1.203e+04    954.112     12.608      0.000    1.02e+04    1.39e+04\n",
      "country_code[T.BFA] -2076.8772    954.112     -2.177      0.030   -3947.107    -206.647\n",
      "country_code[T.BGD] -1996.1375    954.112     -2.092      0.036   -3866.367    -125.908\n",
      "country_code[T.BGR]  1990.1487    954.112      2.086      0.037     119.919    3860.378\n",
      "country_code[T.BIH]  3339.8574    954.112      3.500      0.000    1469.628    5210.087\n",
      "country_code[T.BLR]   926.3336    954.112      0.971      0.332    -943.896    2796.563\n",
      "country_code[T.BOL]    21.4339    954.112      0.022      0.982   -1848.796    1891.664\n",
      "country_code[T.BRA]  1812.6547    954.112      1.900      0.057     -57.575    3682.885\n",
      "country_code[T.BTN] -1478.9008    954.112     -1.550      0.121   -3349.131     391.329\n",
      "country_code[T.CAF] -2183.5300    954.112     -2.289      0.022   -4053.760    -313.300\n",
      "country_code[T.CAN]  2.074e+04    954.112     21.743      0.000    1.89e+04    2.26e+04\n",
      "country_code[T.CHL]  4056.7801    954.112      4.252      0.000    2186.550    5927.010\n",
      "country_code[T.CHN]  -472.0712    954.112     -0.495      0.621   -2342.301    1398.159\n",
      "country_code[T.CIV] -2594.9947    954.112     -2.720      0.007   -4465.225    -724.765\n",
      "country_code[T.CMR] -1200.3359    954.112     -1.258      0.208   -3070.566     669.894\n",
      "country_code[T.COD] -2718.8139    954.112     -2.850      0.004   -4589.044    -848.584\n",
      "country_code[T.COL]   552.1754    954.112      0.579      0.563   -1318.054    2422.405\n",
      "country_code[T.CRI]  2585.5567    954.112      2.710      0.007     715.327    4455.786\n",
      "country_code[T.CYP]  1.435e+04    954.112     15.041      0.000    1.25e+04    1.62e+04\n",
      "country_code[T.CZE]  5240.4635    954.112      5.493      0.000    3370.234    7110.693\n",
      "country_code[T.DEU]  1.507e+04    954.112     15.792      0.000    1.32e+04    1.69e+04\n",
      "country_code[T.DNK]  1.405e+04    954.112     14.724      0.000    1.22e+04    1.59e+04\n",
      "country_code[T.DOM]   563.5722    954.112      0.591      0.555   -1306.658    2433.802\n",
      "country_code[T.ECU]   388.9111    954.112      0.408      0.684   -1481.319    2259.141\n",
      "country_code[T.EGY] -1025.2525    954.112     -1.075      0.283   -2895.482     844.977\n",
      "country_code[T.ESP]  1.012e+04    954.112     10.609      0.000    8251.933     1.2e+04\n",
      "country_code[T.EST]  4707.2327    954.112      4.934      0.000    2837.003    6577.463\n",
      "country_code[T.FIN]  1.331e+04    954.112     13.952      0.000    1.14e+04    1.52e+04\n",
      "country_code[T.FJI]  -896.0990    954.112     -0.939      0.348   -2766.329     974.131\n",
      "country_code[T.FRA]  1.531e+04    954.112     16.051      0.000    1.34e+04    1.72e+04\n",
      "country_code[T.GBR]  1.871e+04    954.112     19.615      0.000    1.68e+04    2.06e+04\n",
      "country_code[T.GEO] -1631.0713    954.112     -1.710      0.087   -3501.301     239.159\n",
      "country_code[T.GHA] -2258.2274    954.112     -2.367      0.018   -4128.457    -387.998\n",
      "country_code[T.GIN] -2298.8179    954.112     -2.409      0.016   -4169.048    -428.588\n",
      "country_code[T.GRC]  8732.4444    954.112      9.152      0.000    6862.215    1.06e+04\n",
      "country_code[T.GTM]  -852.3551    954.112     -0.893      0.372   -2722.585    1017.875\n",
      "country_code[T.HND]   301.4385    954.112      0.316      0.752   -1568.791    2171.668\n",
      "country_code[T.HRV]  4721.6359    954.112      4.949      0.000    2851.406    6591.866\n",
      "country_code[T.HUN]  3106.5113    954.112      3.256      0.001    1236.281    4976.741\n",
      "country_code[T.IDN] -1660.2116    954.112     -1.740      0.082   -3530.441     210.018\n",
      "country_code[T.IND] -2070.5604    954.112     -2.170      0.030   -3940.790    -200.331\n",
      "country_code[T.IRL]  1.472e+04    954.112     15.424      0.000    1.28e+04    1.66e+04\n",
      "country_code[T.IRN]  2837.8256    954.112      2.974      0.003     967.596    4708.055\n",
      "country_code[T.IRQ] -1289.3176    954.112     -1.351      0.177   -3159.547     580.912\n",
      "country_code[T.ISL]  2.389e+04    954.112     25.043      0.000     2.2e+04    2.58e+04\n",
      "country_code[T.ISR]  8105.4882    954.112      8.495      0.000    6235.258    9975.718\n",
      "country_code[T.ITA]  1.193e+04    954.112     12.504      0.000    1.01e+04    1.38e+04\n",
      "country_code[T.JOR]    53.8011    954.112      0.056      0.955   -1816.429    1924.031\n",
      "country_code[T.JPN]  1.444e+04    954.112     15.133      0.000    1.26e+04    1.63e+04\n",
      "country_code[T.KAZ]  -755.6801    954.112     -0.792      0.428   -2625.910    1114.550\n",
      "country_code[T.KEN] -2475.5099    954.112     -2.595      0.009   -4345.740    -605.280\n",
      "country_code[T.KGZ] -1221.6107    954.112     -1.280      0.200   -3091.841     648.619\n",
      "country_code[T.KOR]  1.223e+04    954.112     12.821      0.000    1.04e+04    1.41e+04\n",
      "country_code[T.LAO] -1991.4225    954.112     -2.087      0.037   -3861.652    -121.193\n",
      "country_code[T.LBR] -2379.8226    954.112     -2.494      0.013   -4250.052    -509.593\n",
      "country_code[T.LKA] -1116.8897    954.112     -1.171      0.242   -2987.119     753.340\n",
      "country_code[T.LTU]  3628.8267    954.112      3.803      0.000    1758.597    5499.057\n",
      "country_code[T.LUX]  2.222e+04    954.112     23.292      0.000    2.04e+04    2.41e+04\n",
      "country_code[T.LVA]  3769.6447    954.112      3.951      0.000    1899.415    5639.875\n",
      "country_code[T.MAR]  -657.2293    954.112     -0.689      0.491   -2527.459    1213.001\n",
      "country_code[T.MDA]  -845.6585    954.112     -0.886      0.375   -2715.888    1024.571\n",
      "country_code[T.MDG] -2649.5928    954.112     -2.777      0.005   -4519.823    -779.363\n",
      "country_code[T.MEX]   891.0004    954.112      0.934      0.350    -979.229    2761.230\n",
      "country_code[T.MKD]  1604.5664    954.112      1.682      0.093    -265.663    3474.796\n",
      "country_code[T.MLI] -2313.7549    954.112     -2.425      0.015   -4183.985    -443.525\n",
      "country_code[T.MNE]  3553.0692    954.112      3.724      0.000    1682.839    5423.299\n",
      "country_code[T.MNG]  -656.7425    954.112     -0.688      0.491   -2526.972    1213.487\n",
      "country_code[T.MOZ] -2302.3494    954.112     -2.413      0.016   -4172.579    -432.120\n",
      "country_code[T.MRT] -1196.2208    954.112     -1.254      0.210   -3066.451     674.009\n",
      "country_code[T.MWI] -2080.5645    954.112     -2.181      0.029   -3950.794    -210.335\n",
      "country_code[T.MYS]  3011.5125    954.112      3.156      0.002    1141.283    4881.742\n",
      "country_code[T.NER] -2344.7005    954.112     -2.457      0.014   -4214.930    -474.471\n",
      "country_code[T.NGA] -2302.9745    954.112     -2.414      0.016   -4173.204    -432.745\n",
      "country_code[T.NIC]  -475.4966    954.112     -0.498      0.618   -2345.726    1394.733\n",
      "country_code[T.NLD]  1.473e+04    954.112     15.442      0.000    1.29e+04    1.66e+04\n",
      "country_code[T.NOR]  1.949e+04    954.112     20.426      0.000    1.76e+04    2.14e+04\n",
      "country_code[T.NPL] -2080.4383    954.112     -2.180      0.029   -3950.668    -210.208\n",
      "country_code[T.PAK] -2106.9906    954.112     -2.208      0.027   -3977.220    -236.761\n",
      "country_code[T.PAN]  2140.3095    954.112      2.243      0.025     270.080    4010.539\n",
      "country_code[T.PER]   335.7034    954.112      0.352      0.725   -1534.526    2205.933\n",
      "country_code[T.PHL] -1520.7670    954.112     -1.594      0.111   -3390.997     349.463\n",
      "country_code[T.POL]  2746.8903    954.112      2.879      0.004     876.660    4617.120\n",
      "country_code[T.PRT]  7103.8455    954.112      7.446      0.000    5233.616    8974.075\n",
      "country_code[T.PRY]   283.2511    954.112      0.297      0.767   -1586.979    2153.481\n",
      "country_code[T.PSE] -1880.7314    954.112     -1.971      0.049   -3750.961     -10.502\n",
      "country_code[T.ROU]   323.5073    954.112      0.339      0.735   -1546.723    2193.737\n",
      "country_code[T.RUS]  4161.9408    954.112      4.362      0.000    2291.711    6032.171\n",
      "country_code[T.SDN] -1909.4828    954.112     -2.001      0.045   -3779.713     -39.253\n",
      "country_code[T.SLV]  -139.6051    954.112     -0.146      0.884   -2009.835    1730.625\n",
      "country_code[T.SRB]  1884.9209    954.112      1.976      0.048      14.691    3755.151\n",
      "country_code[T.SVK]  3101.7500    954.112      3.251      0.001    1231.520    4971.980\n",
      "country_code[T.SVN]  9111.1776    954.112      9.549      0.000    7240.948     1.1e+04\n",
      "country_code[T.SWE]  1.319e+04    954.112     13.824      0.000    1.13e+04    1.51e+04\n",
      "country_code[T.SWZ] -2464.5461    954.112     -2.583      0.010   -4334.776    -594.316\n",
      "country_code[T.THA]  -251.1173    954.112     -0.263      0.792   -2121.347    1619.113\n",
      "country_code[T.TJK]  -924.9777    954.112     -0.969      0.332   -2795.208     945.252\n",
      "country_code[T.TLS] -2267.2195    954.112     -2.376      0.018   -4137.449    -396.990\n",
      "country_code[T.TUR]  3055.6354    954.112      3.203      0.001    1185.406    4925.865\n",
      "country_code[T.TZA] -2406.0629    954.112     -2.522      0.012   -4276.293    -535.833\n",
      "country_code[T.UGA] -2007.6236    954.112     -2.104      0.035   -3877.853    -137.394\n",
      "country_code[T.UKR]   354.5584    954.112      0.372      0.710   -1515.671    2224.788\n",
      "country_code[T.URY]  2295.9550    954.112      2.406      0.016     425.725    4166.185\n",
      "country_code[T.USA]  2.251e+04    954.112     23.591      0.000    2.06e+04    2.44e+04\n",
      "country_code[T.VEN]   172.3178    954.112      0.181      0.857   -1697.912    2042.548\n",
      "country_code[T.VNM] -1617.0559    954.112     -1.695      0.090   -3487.286     253.174\n",
      "country_code[T.YEM] -1952.1940    954.112     -2.046      0.041   -3822.424     -81.964\n",
      "country_code[T.ZAF]  2623.0750    954.112      2.749      0.006     752.845    4493.305\n",
      "==============================================================================\n",
      "Omnibus:                    14173.515   Durbin-Watson:                   0.689\n",
      "Prob(Omnibus):                  0.000   Jarque-Bera (JB):          4100801.951\n",
      "Skew:                           6.758   Prob(JB):                         0.00\n",
      "Kurtosis:                      95.762   Cond. No.                         113.\n",
      "==============================================================================\n",
      "\n",
      "Warnings:\n",
      "[1] Standard Errors assume that the covariance matrix of the errors is correctly specified.\n"
     ]
    }
   ],
   "source": [
    "anova_pays = smf.ols('income~country_code', data=pj7).fit()\n",
    "print(anova_pays.summary())"
   ]
  },
  {
   "cell_type": "markdown",
   "metadata": {},
   "source": [
    "On y voit les paramètres estimés (dans la colonne \"Estimate\"), mais ici, ce ne sont pas les paramètres qui nous intéressent le plus.\n",
    "\n",
    "## p_value du  Test de Fisher\n",
    "\n",
    "Ce qui nous intéresse réellement, c'est le **test de Fisher**.  \n",
    "La p-valeur de ce test ($0$) est très petite et largement inférieure au risque de 1ère espèce à 5 %.  \n",
    "On rejette donc l'hypothèse nulle (H0) selon laquelle le revenu moyen par centile est identique pour chaque pays.\n",
    "\n",
    "*Le pays a donc bien un effet sur le revenu moyen, comme nous en avions l'intuition en regardant la distribution ci-dessous*\n",
    "\n",
    "Pour obtenir le tableau de l'analyse de la variance, on utilise la commande anova_lm :"
   ]
  },
  {
   "cell_type": "code",
   "execution_count": 12,
   "metadata": {},
   "outputs": [
    {
     "data": {
      "text/html": [
       "<div>\n",
       "<style scoped>\n",
       "    .dataframe tbody tr th:only-of-type {\n",
       "        vertical-align: middle;\n",
       "    }\n",
       "\n",
       "    .dataframe tbody tr th {\n",
       "        vertical-align: top;\n",
       "    }\n",
       "\n",
       "    .dataframe thead th {\n",
       "        text-align: right;\n",
       "    }\n",
       "</style>\n",
       "<table border=\"1\" class=\"dataframe\">\n",
       "  <thead>\n",
       "    <tr style=\"text-align: right;\">\n",
       "      <th></th>\n",
       "      <th>sum_sq</th>\n",
       "      <th>df</th>\n",
       "      <th>F</th>\n",
       "      <th>PR(&gt;F)</th>\n",
       "    </tr>\n",
       "  </thead>\n",
       "  <tbody>\n",
       "    <tr>\n",
       "      <th>country_code</th>\n",
       "      <td>492,832,628,998.266</td>\n",
       "      <td>111.000</td>\n",
       "      <td>97.546</td>\n",
       "      <td>0.000</td>\n",
       "    </tr>\n",
       "    <tr>\n",
       "      <th>Residual</th>\n",
       "      <td>504,687,076,205.208</td>\n",
       "      <td>11,088.000</td>\n",
       "      <td>nan</td>\n",
       "      <td>nan</td>\n",
       "    </tr>\n",
       "  </tbody>\n",
       "</table>\n",
       "</div>"
      ],
      "text/plain": [
       "                          sum_sq         df      F  PR(>F)\n",
       "country_code 492,832,628,998.266    111.000 97.546   0.000\n",
       "Residual     504,687,076,205.208 11,088.000    nan     nan"
      ]
     },
     "execution_count": 12,
     "metadata": {},
     "output_type": "execute_result"
    }
   ],
   "source": [
    "sm.stats.anova_lm(anova_pays, typ=2)"
   ]
  },
  {
   "cell_type": "markdown",
   "metadata": {},
   "source": [
    "##  <font color='#61210B'><u>Conclusion - ANOVA</u></font>  Revenu en fonction du pays\n",
    "\n",
    "> - La <b>p_value</b> du résultat <b>(=0)</b> nous contraint d'affirmer que le facteur \"pays\" a donc une influence sur le revenu moyen.  \n"
   ]
  },
  {
   "cell_type": "code",
   "execution_count": 13,
   "metadata": {
    "scrolled": false
   },
   "outputs": [
    {
     "data": {
      "image/png": "[encoded data removed]",
      "text/plain": [
       "<Figure size 1080x720 with 1 Axes>"
      ]
     },
     "metadata": {},
     "output_type": "display_data"
    }
   ],
   "source": [
    "ano6 = pj7[pj7['country_code'].isin(cod_pays)][['country_code', 'income']]\n",
    "x = ano6['country_code']\n",
    "y = ano6['income']\n",
    "sns.set(style=\"ticks\")\n",
    "mean_marker = {\"marker\":\"o\",\"markerfacecolor\":\"white\", \"markeredgecolor\":\"grey\"}\n",
    "fig, ax = plt.subplots(figsize=[15,10])\n",
    "ax = sns.boxplot(x, y, data=ano6, showmeans=True, meanprops=mean_marker, hue=x, dodge=False, \n",
    "                 showfliers=False) # palette='Set1')\n",
    "ax.legend(loc=\"upper left\", bbox_to_anchor=(1, 1), facecolor=\"#E6E6E6\")\n",
    "ax.grid(color=\"black\", linestyle=':', linewidth=0.5)\n",
    "plt.xlabel(\"Pays\")\n",
    "plt.ylabel(\"Revenus ($)\", size=13)\n",
    "plt.title(\"Distribution des Revenus - Selection Pays\", fontsize=15, color='darkblue', y=1.05)\n",
    "plt.savefig('OUTFILES/M4-Repartition_anova_selection_pays.png', dpi=100, bbox_inches='tight')\n",
    "plt.show()\n",
    "plt.close()"
   ]
  },
  {
   "cell_type": "markdown",
   "metadata": {},
   "source": [
    "<hr style=\"height: 3px; color: #839D2D; width: 100%; \">\n",
    "\n",
    "##  <font color='#61210B'><u>M4 - REGRESSIONS LINEAIRES</u></font>\n",
    "\n",
    "\n"
   ]
  },
  {
   "cell_type": "markdown",
   "metadata": {},
   "source": [
    "<font size=4>Appliquez une régression linéaire sur vos données, en n’incluant comme variables explicatives uniquement le revenu moyen du pays de l’individu et l’indice de Gini du pays de l’individu. Quel est le pourcentage de variance expliquée par votre modèle ?\n",
    "\n",
    "Selon ce modèle, donnez la décomposition de variance totale expliquée par :   \n",
    "<br>\n",
    "\n",
    "* Le pays de naissance (ie. le revenu moyen et l’indice de Gini)  \n",
    "* Les autres facteurs non considérés dans le modèle (efforts, chance, etc.)</font>"
   ]
  },
  {
   "cell_type": "markdown",
   "metadata": {},
   "source": [
    "### Creation Fonction de Regression Lineaire : <font color=\"darkblue\"> $reglin (X,Y)$</font>\n",
    "\n",
    "##### <font color=\"darkblue\">Paramètres (input)</font>:\n",
    "* X  =  variable(s) explicative(s)\n",
    "* Y  =  variable à expliquer\n",
    "\n",
    "##### <font color=\"darkgreen\">Paramètres (output)</font>:\n",
    "* <b>var_expl</b> : model.score. Soit le (%) pourcentage de variance expliquée \n",
    "* <b>coef</b> : model.coef_\n",
    "* <b>intrcpt</b> : model.intercept_\n",
    "\n"
   ]
  },
  {
   "cell_type": "code",
   "execution_count": 14,
   "metadata": {
    "scrolled": true
   },
   "outputs": [],
   "source": [
    "def reglin(X,Y):\n",
    "    model    = LinearRegression().fit(X, Y)\n",
    "    var_expl = model.score(X, Y)\n",
    "    coef     = model.coef_\n",
    "    intrcpt  = model.intercept_\n",
    "    predict  = model.predict(X)\n",
    "    return var_expl, coef, intrcpt, predict"
   ]
  },
  {
   "cell_type": "markdown",
   "metadata": {},
   "source": [
    "<hr style=\"height: 1px; color: #839D2D; width: 100%; \">\n",
    "\n",
    "### 1° Cas :  sur 2 variables explicatives \n",
    "* Revenu moyen du pays  (gdpppp)\n",
    "* Indice de gini"
   ]
  },
  {
   "cell_type": "code",
   "execution_count": 15,
   "metadata": {
    "scrolled": true
   },
   "outputs": [
    {
     "data": {
      "text/html": [
       "<div>\n",
       "<style scoped>\n",
       "    .dataframe tbody tr th:only-of-type {\n",
       "        vertical-align: middle;\n",
       "    }\n",
       "\n",
       "    .dataframe tbody tr th {\n",
       "        vertical-align: top;\n",
       "    }\n",
       "\n",
       "    .dataframe thead th {\n",
       "        text-align: right;\n",
       "    }\n",
       "</style>\n",
       "<table border=\"1\" class=\"dataframe\">\n",
       "  <thead>\n",
       "    <tr style=\"text-align: right;\">\n",
       "      <th></th>\n",
       "      <th>country_code</th>\n",
       "      <th>pj</th>\n",
       "      <th>income</th>\n",
       "      <th>gini</th>\n",
       "      <th>gdpppp</th>\n",
       "    </tr>\n",
       "  </thead>\n",
       "  <tbody>\n",
       "    <tr>\n",
       "      <th>0</th>\n",
       "      <td>ALB</td>\n",
       "      <td>0.816</td>\n",
       "      <td>728.898</td>\n",
       "      <td>30.300</td>\n",
       "      <td>7,297.000</td>\n",
       "    </tr>\n",
       "    <tr>\n",
       "      <th>1</th>\n",
       "      <td>ALB</td>\n",
       "      <td>0.816</td>\n",
       "      <td>916.662</td>\n",
       "      <td>30.300</td>\n",
       "      <td>7,297.000</td>\n",
       "    </tr>\n",
       "    <tr>\n",
       "      <th>2</th>\n",
       "      <td>ALB</td>\n",
       "      <td>0.816</td>\n",
       "      <td>1,010.916</td>\n",
       "      <td>30.300</td>\n",
       "      <td>7,297.000</td>\n",
       "    </tr>\n",
       "    <tr>\n",
       "      <th>3</th>\n",
       "      <td>ALB</td>\n",
       "      <td>0.816</td>\n",
       "      <td>1,086.908</td>\n",
       "      <td>30.300</td>\n",
       "      <td>7,297.000</td>\n",
       "    </tr>\n",
       "    <tr>\n",
       "      <th>4</th>\n",
       "      <td>ALB</td>\n",
       "      <td>0.816</td>\n",
       "      <td>1,132.700</td>\n",
       "      <td>30.300</td>\n",
       "      <td>7,297.000</td>\n",
       "    </tr>\n",
       "  </tbody>\n",
       "</table>\n",
       "</div>"
      ],
      "text/plain": [
       "  country_code    pj    income   gini    gdpppp\n",
       "0          ALB 0.816   728.898 30.300 7,297.000\n",
       "1          ALB 0.816   916.662 30.300 7,297.000\n",
       "2          ALB 0.816 1,010.916 30.300 7,297.000\n",
       "3          ALB 0.816 1,086.908 30.300 7,297.000\n",
       "4          ALB 0.816 1,132.700 30.300 7,297.000"
      ]
     },
     "execution_count": 15,
     "metadata": {},
     "output_type": "execute_result"
    }
   ],
   "source": [
    "pj7.head()"
   ]
  },
  {
   "cell_type": "code",
   "execution_count": 16,
   "metadata": {},
   "outputs": [],
   "source": [
    "# Version 2 Variables sans & avec Logarithmes\n",
    "dfreglin2 = pj7[['income', 'gini', 'gdpppp']]\n",
    "dfreglin2log = pd.concat([np.log(pj7['income']), pj7[['gini']], np.log(pj7['gdpppp'])], axis = 1)"
   ]
  },
  {
   "cell_type": "markdown",
   "metadata": {},
   "source": [
    "<font color=\"darkblue\" size=3>Version <b>2 vars <u>SANS</u></b> Logarithmes </font>"
   ]
  },
  {
   "cell_type": "code",
   "execution_count": 17,
   "metadata": {
    "scrolled": false
   },
   "outputs": [
    {
     "name": "stdout",
     "output_type": "stream",
     "text": [
      "Variance expliquée (Coeff.R²) = :  44.6 (%)\n"
     ]
    }
   ],
   "source": [
    "X = dfreglin2[['gdpppp', 'gini']]\n",
    "Y = dfreglin2['income'].values\n",
    "var, a, b, predict = reglin(X,Y)\n",
    "print(\"Variance expliquée (Coeff.R²) = : \", round(var, 4)*100, \"(%)\")"
   ]
  },
  {
   "cell_type": "markdown",
   "metadata": {},
   "source": [
    "Tableau Recap avec <b>Statsmodel</b></font>"
   ]
  },
  {
   "cell_type": "code",
   "execution_count": 18,
   "metadata": {
    "scrolled": false
   },
   "outputs": [
    {
     "name": "stdout",
     "output_type": "stream",
     "text": [
      "                            OLS Regression Results                            \n",
      "==============================================================================\n",
      "Dep. Variable:                 income   R-squared:                       0.446\n",
      "Model:                            OLS   Adj. R-squared:                  0.446\n",
      "Method:                 Least Squares   F-statistic:                     4508.\n",
      "Date:                Thu, 21 May 2020   Prob (F-statistic):               0.00\n",
      "Time:                        18:30:59   Log-Likelihood:            -1.1509e+05\n",
      "No. Observations:               11200   AIC:                         2.302e+05\n",
      "Df Residuals:                   11197   BIC:                         2.302e+05\n",
      "Df Model:                           2                                         \n",
      "Covariance Type:            nonrobust                                         \n",
      "==============================================================================\n",
      "                 coef    std err          t      P>|t|      [0.025      0.975]\n",
      "------------------------------------------------------------------------------\n",
      "Intercept   -101.7025    375.528     -0.271      0.787    -837.804     634.399\n",
      "gdpppp         0.4786      0.005     87.475      0.000       0.468       0.489\n",
      "gini           5.3461      8.871      0.603      0.547     -12.043      22.735\n",
      "==============================================================================\n",
      "Omnibus:                    13972.141   Durbin-Watson:                   0.642\n",
      "Prob(Omnibus):                  0.000   Jarque-Bera (JB):          3767804.656\n",
      "Skew:                           6.601   Prob(JB):                         0.00\n",
      "Kurtosis:                      91.879   Cond. No.                     1.03e+05\n",
      "==============================================================================\n",
      "\n",
      "Warnings:\n",
      "[1] Standard Errors assume that the covariance matrix of the errors is correctly specified.\n",
      "[2] The condition number is large, 1.03e+05. This might indicate that there are\n",
      "strong multicollinearity or other numerical problems.\n"
     ]
    }
   ],
   "source": [
    "reglin2 = smf.ols('income~gdpppp+gini', data=dfreglin2).fit()\n",
    "print(reglin2.summary())"
   ]
  },
  {
   "cell_type": "markdown",
   "metadata": {},
   "source": [
    "<b>RESIDUS = </b> Représente la variance inexpliquée par le modèle.  \n",
    "Ce sont d'autres variables que l'on aurait pu ajouter a ce modèle pour expliquer au mieux le revenu d'une personne :   \n",
    "* Niveau d'etude atteint\n",
    "* Santé, equlibre physique d'une personne\n",
    "* Facteur CHANCE\n",
    "* Facteur effort fourni pour s'éveler\n"
   ]
  },
  {
   "cell_type": "markdown",
   "metadata": {},
   "source": [
    "<font color=\"darkblue\" size=3>Analyse des <b>Residus</b> du modèle <b>2vars_sans_log</b></font> \n",
    "\n",
    "Sachant qu'il y a <b>44.6(%)</b> de Variance expliquée (Coeff.R²) par ce modèle, \n",
    "\n",
    "> RESIDUS $=>$ <b>55,4(%)</b> de variance non expliquée"
   ]
  },
  {
   "cell_type": "code",
   "execution_count": 19,
   "metadata": {
    "scrolled": true
   },
   "outputs": [
    {
     "data": {
      "image/png": "[encoded data removed]",
      "text/plain": [
       "<Figure size 1080x360 with 2 Axes>"
      ]
     },
     "metadata": {},
     "output_type": "display_data"
    }
   ],
   "source": [
    "fig, ax = plt.subplots(figsize=[15,5])\n",
    "plt.subplot(1, 2, 1)\n",
    "plt.plot(predict, Y-predict,'.', color=\"darkred\")\n",
    "plt.grid(color=\"black\", linestyle=':', linewidth=0.5)\n",
    "plt.xlabel(\"Revenu (predict)\", size=13)\n",
    "plt.ylabel(\"Redidus\", size=13)\n",
    "plt.title(\"Residus vs Predictions Modele - 2vars_sans_log\", size=15, color=\"darkred\")\n",
    "\n",
    "plt.subplot(1, 2, 2)\n",
    "sns.distplot(Y-predict, color='brown')\n",
    "plt.grid(color=\"black\", linestyle=':', linewidth=0.5)\n",
    "plt.title(\"Histogramme Residus Modele - 2vars_sans_log\", size=15, color=\"darkred\")\n",
    "\n",
    "plt.savefig('OUTFILES/M4-Residus_2var_sans_log.png', dpi=100, bbox_inches='tight')\n",
    "plt.show()\n",
    "plt.close()"
   ]
  },
  {
   "cell_type": "markdown",
   "metadata": {},
   "source": [
    "<font color=\"darkred\" size=4>    \n",
    "* Le modèle ne semble pas linéaire car s'il l'était, le nuage de point devrait être centré sur l'axe Y=0 (figure gauche).  \n",
    "* Quand le modèle est bon, la distribution des \"résidus\" suit une loi normale (gaussienne) (figure droite).</font>"
   ]
  },
  {
   "cell_type": "markdown",
   "metadata": {},
   "source": [
    "<font color=\"darkblue\" size=3>Version <b>2 vars <u>AVEC</u></b> Logarithmes </font>"
   ]
  },
  {
   "cell_type": "code",
   "execution_count": 20,
   "metadata": {
    "scrolled": false
   },
   "outputs": [
    {
     "name": "stdout",
     "output_type": "stream",
     "text": [
      "Variance expliquée (Coeff.R²) = :  65.9 (%)\n"
     ]
    }
   ],
   "source": [
    "X = dfreglin2log[['gdpppp', 'gini']]\n",
    "Y = dfreglin2log['income'].values\n",
    "var, a, b, predict = reglin(X,Y)\n",
    "print(\"Variance expliquée (Coeff.R²) = : \", round(var, 4)*100, \"(%)\")"
   ]
  },
  {
   "cell_type": "markdown",
   "metadata": {},
   "source": [
    "Tableau Recap avec <b>Statsmodel</b></font>"
   ]
  },
  {
   "cell_type": "code",
   "execution_count": 21,
   "metadata": {},
   "outputs": [
    {
     "name": "stdout",
     "output_type": "stream",
     "text": [
      "                            OLS Regression Results                            \n",
      "==============================================================================\n",
      "Dep. Variable:                 income   R-squared:                       0.659\n",
      "Model:                            OLS   Adj. R-squared:                  0.659\n",
      "Method:                 Least Squares   F-statistic:                 1.082e+04\n",
      "Date:                Thu, 21 May 2020   Prob (F-statistic):               0.00\n",
      "Time:                        18:31:00   Log-Likelihood:                -13497.\n",
      "No. Observations:               11200   AIC:                         2.700e+04\n",
      "Df Residuals:                   11197   BIC:                         2.702e+04\n",
      "Df Model:                           2                                         \n",
      "Covariance Type:            nonrobust                                         \n",
      "==============================================================================\n",
      "                 coef    std err          t      P>|t|      [0.025      0.975]\n",
      "------------------------------------------------------------------------------\n",
      "Intercept      1.0174      0.077     13.233      0.000       0.867       1.168\n",
      "gdpppp         0.8580      0.006    133.431      0.000       0.845       0.871\n",
      "gini          -0.0190      0.001    -19.369      0.000      -0.021      -0.017\n",
      "==============================================================================\n",
      "Omnibus:                      402.294   Durbin-Watson:                   0.316\n",
      "Prob(Omnibus):                  0.000   Jarque-Bera (JB):             1166.088\n",
      "Skew:                          -0.066   Prob(JB):                    6.13e-254\n",
      "Kurtosis:                       4.575   Cond. No.                         402.\n",
      "==============================================================================\n",
      "\n",
      "Warnings:\n",
      "[1] Standard Errors assume that the covariance matrix of the errors is correctly specified.\n"
     ]
    }
   ],
   "source": [
    "reglin2log = smf.ols('income~gdpppp+gini', data=dfreglin2log).fit()\n",
    "print(reglin2log.summary())"
   ]
  },
  {
   "cell_type": "markdown",
   "metadata": {},
   "source": [
    "<font color=\"darkblue\" size=3>Analyse des <b>Residus</b> du modèle <b>2vars_avec_log</b></font> \n",
    "\n",
    "Sachant qu'il y a <b>65.9(%)</b> de Variance expliquée (Coeff.R²) par ce modèle, \n",
    "\n",
    "> RESIDUS $=>$ <b>34,1(%)</b> de variance non expliquée\n"
   ]
  },
  {
   "cell_type": "code",
   "execution_count": 22,
   "metadata": {},
   "outputs": [
    {
     "data": {
      "image/png": "[encoded data removed]",
      "text/plain": [
       "<Figure size 1080x360 with 2 Axes>"
      ]
     },
     "metadata": {},
     "output_type": "display_data"
    }
   ],
   "source": [
    "fig, ax = plt.subplots(figsize=[15,5])\n",
    "plt.subplot(1, 2, 1)\n",
    "plt.plot(predict, Y-predict,'.', color=\"darkblue\")\n",
    "plt.grid(color=\"black\", linestyle=':', linewidth=0.5)\n",
    "plt.xlabel(\"LOG Revenu (predict)\", size=13)\n",
    "plt.ylabel(\"Redidus\", size=13)\n",
    "plt.title(\"Residus vs Predictions Modele - 2vars_avec_log\", size=15, color=\"darkblue\")\n",
    "\n",
    "plt.subplot(1, 2, 2)\n",
    "sns.distplot(Y-predict, color='darkblue')\n",
    "plt.grid(color=\"black\", linestyle=':', linewidth=0.5)\n",
    "plt.title(\"Histogramme Residus Modele - 2vars_avec_log\", size=15, color=\"darkblue\")\n",
    "\n",
    "plt.savefig('OUTFILES/M4-Residus_2var_avec_log.png', dpi=100, bbox_inches='tight')\n",
    "plt.show()\n",
    "plt.close()"
   ]
  },
  {
   "cell_type": "markdown",
   "metadata": {},
   "source": [
    "<font color=\"darkblue\" size=4>    \n",
    "* Ici, on constate mieux la relation linéaire, le nuage de point paraissant centré sur l'axe Y=0 (figure gauche).  \n",
    "* La distribution des \"résidus\" de ce modèle semble suivre une une loi normale (gaussienne) (figure droite).</font>"
   ]
  },
  {
   "cell_type": "markdown",
   "metadata": {},
   "source": [
    "<hr style=\"height: 1px; color: #839D2D; width: 100%; \">\n",
    "\n",
    "### 2° Cas :  sur 3 variables explicatives  \n",
    "Ajoutons une variable (classe_revenu_parent) afin d'améliorer le modèle précédent\n",
    "* Revenu moyen du pays  (gdpppp)\n",
    "* Indice de gini\n",
    "* Classe de revenu des parents\n",
    "\n",
    "Cette fois-ci, je suis obligé de prendre la dataframe conséquent conteanant les 5'600'000 lignes car c'est lui qui intégre la notion de classe de revenu d'un parent pour un enfant."
   ]
  },
  {
   "cell_type": "code",
   "execution_count": 23,
   "metadata": {},
   "outputs": [
    {
     "data": {
      "text/html": [
       "<div>\n",
       "<style scoped>\n",
       "    .dataframe tbody tr th:only-of-type {\n",
       "        vertical-align: middle;\n",
       "    }\n",
       "\n",
       "    .dataframe tbody tr th {\n",
       "        vertical-align: top;\n",
       "    }\n",
       "\n",
       "    .dataframe thead th {\n",
       "        text-align: right;\n",
       "    }\n",
       "</style>\n",
       "<table border=\"1\" class=\"dataframe\">\n",
       "  <thead>\n",
       "    <tr style=\"text-align: right;\">\n",
       "      <th></th>\n",
       "      <th>country_code</th>\n",
       "      <th>pj</th>\n",
       "      <th>income</th>\n",
       "      <th>gini</th>\n",
       "      <th>gdpppp</th>\n",
       "      <th>c_i_parent</th>\n",
       "    </tr>\n",
       "  </thead>\n",
       "  <tbody>\n",
       "    <tr>\n",
       "      <th>0</th>\n",
       "      <td>ALB</td>\n",
       "      <td>0.816</td>\n",
       "      <td>728.898</td>\n",
       "      <td>30.300</td>\n",
       "      <td>7,297.000</td>\n",
       "      <td>1</td>\n",
       "    </tr>\n",
       "    <tr>\n",
       "      <th>1</th>\n",
       "      <td>ALB</td>\n",
       "      <td>0.816</td>\n",
       "      <td>728.898</td>\n",
       "      <td>30.300</td>\n",
       "      <td>7,297.000</td>\n",
       "      <td>1</td>\n",
       "    </tr>\n",
       "    <tr>\n",
       "      <th>2</th>\n",
       "      <td>ALB</td>\n",
       "      <td>0.816</td>\n",
       "      <td>728.898</td>\n",
       "      <td>30.300</td>\n",
       "      <td>7,297.000</td>\n",
       "      <td>1</td>\n",
       "    </tr>\n",
       "    <tr>\n",
       "      <th>3</th>\n",
       "      <td>ALB</td>\n",
       "      <td>0.816</td>\n",
       "      <td>728.898</td>\n",
       "      <td>30.300</td>\n",
       "      <td>7,297.000</td>\n",
       "      <td>1</td>\n",
       "    </tr>\n",
       "    <tr>\n",
       "      <th>4</th>\n",
       "      <td>ALB</td>\n",
       "      <td>0.816</td>\n",
       "      <td>728.898</td>\n",
       "      <td>30.300</td>\n",
       "      <td>7,297.000</td>\n",
       "      <td>1</td>\n",
       "    </tr>\n",
       "  </tbody>\n",
       "</table>\n",
       "</div>"
      ],
      "text/plain": [
       "  country_code    pj  income   gini    gdpppp  c_i_parent\n",
       "0          ALB 0.816 728.898 30.300 7,297.000           1\n",
       "1          ALB 0.816 728.898 30.300 7,297.000           1\n",
       "2          ALB 0.816 728.898 30.300 7,297.000           1\n",
       "3          ALB 0.816 728.898 30.300 7,297.000           1\n",
       "4          ALB 0.816 728.898 30.300 7,297.000           1"
      ]
     },
     "execution_count": 23,
     "metadata": {},
     "output_type": "execute_result"
    }
   ],
   "source": [
    "wid.head()"
   ]
  },
  {
   "cell_type": "code",
   "execution_count": 24,
   "metadata": {},
   "outputs": [],
   "source": [
    "# Version 3 Variables sans & avec Logarithmes\n",
    "dfreglin3 = wid[['income', 'gini', 'gdpppp', 'c_i_parent']]\n",
    "dfreglin3log = pd.concat([np.log(wid['income']), wid[['gini']], np.log(wid['gdpppp']), wid[['c_i_parent']]], axis = 1)"
   ]
  },
  {
   "cell_type": "markdown",
   "metadata": {},
   "source": [
    "<font color=\"darkblue\" size=3>Version <b>3 vars <u>SANS</u></b> Logarithmes </font>"
   ]
  },
  {
   "cell_type": "code",
   "execution_count": 25,
   "metadata": {},
   "outputs": [
    {
     "name": "stdout",
     "output_type": "stream",
     "text": [
      "Variance expliquée (Coeff.R²) = :  45.57 (%)\n"
     ]
    }
   ],
   "source": [
    "X = dfreglin3[['gdpppp', 'gini', 'c_i_parent']]\n",
    "Y = dfreglin3['income'].values\n",
    "var, a, b, predict = reglin(X,Y)\n",
    "print(\"Variance expliquée (Coeff.R²) = : \", round(var, 4)*100, \"(%)\")"
   ]
  },
  {
   "cell_type": "markdown",
   "metadata": {},
   "source": [
    "Tableau Recap avec <b>Statsmodel</b></font>"
   ]
  },
  {
   "cell_type": "code",
   "execution_count": 26,
   "metadata": {},
   "outputs": [
    {
     "name": "stdout",
     "output_type": "stream",
     "text": [
      "                            OLS Regression Results                            \n",
      "==============================================================================\n",
      "Dep. Variable:                 income   R-squared:                       0.456\n",
      "Model:                            OLS   Adj. R-squared:                  0.456\n",
      "Method:                 Least Squares   F-statistic:                 1.563e+06\n",
      "Date:                Thu, 21 May 2020   Prob (F-statistic):               0.00\n",
      "Time:                        18:31:05   Log-Likelihood:            -5.7496e+07\n",
      "No. Observations:             5600000   AIC:                         1.150e+08\n",
      "Df Residuals:                 5599996   BIC:                         1.150e+08\n",
      "Df Model:                           3                                         \n",
      "Covariance Type:            nonrobust                                         \n",
      "==============================================================================\n",
      "                 coef    std err          t      P>|t|      [0.025      0.975]\n",
      "------------------------------------------------------------------------------\n",
      "Intercept  -1776.1685     17.469   -101.675      0.000   -1810.407   -1741.930\n",
      "gdpppp         0.4842      0.000   1991.232      0.000       0.484       0.485\n",
      "gini          17.6750      0.395     44.733      0.000      16.901      18.449\n",
      "c_i_parent    43.4234      0.138    315.707      0.000      43.154      43.693\n",
      "==============================================================================\n",
      "Omnibus:                  7004261.212   Durbin-Watson:                   0.001\n",
      "Prob(Omnibus):                  0.000   Jarque-Bera (JB):       1953520610.859\n",
      "Skew:                           6.673   Prob(JB):                         0.00\n",
      "Kurtosis:                      93.521   Cond. No.                     1.08e+05\n",
      "==============================================================================\n",
      "\n",
      "Warnings:\n",
      "[1] Standard Errors assume that the covariance matrix of the errors is correctly specified.\n",
      "[2] The condition number is large, 1.08e+05. This might indicate that there are\n",
      "strong multicollinearity or other numerical problems.\n"
     ]
    }
   ],
   "source": [
    "reglin3 = smf.ols('income~gdpppp+gini+c_i_parent', data=dfreglin3).fit()\n",
    "print(reglin3.summary())"
   ]
  },
  {
   "cell_type": "markdown",
   "metadata": {},
   "source": [
    "<font color=\"darkblue\" size=3>Analyse des <b>Residus</b> du modèle <b>3vars_sans_log</b></font> \n",
    "\n",
    "Sachant qu'il y a <b>45.5(%)</b> de Variance expliquée (Coeff.R²) par ce modèle, \n",
    "\n",
    "> RESIDUS $=>$ <b>54,5(%)</b> de variance non expliquée"
   ]
  },
  {
   "cell_type": "code",
   "execution_count": 27,
   "metadata": {
    "scrolled": true
   },
   "outputs": [
    {
     "data": {
      "image/png": "[encoded data removed]",
      "text/plain": [
       "<Figure size 1080x360 with 2 Axes>"
      ]
     },
     "metadata": {},
     "output_type": "display_data"
    }
   ],
   "source": [
    "fig, ax = plt.subplots(figsize=[15,5])\n",
    "plt.subplot(1, 2, 1)\n",
    "plt.plot(predict, Y-predict,'.', color=\"purple\")\n",
    "plt.grid(color=\"black\", linestyle=':', linewidth=0.5)\n",
    "plt.xlabel(\"Revenu (predict)\", size=13)\n",
    "plt.ylabel(\"Redidus\", size=13)\n",
    "plt.title(\"Residus vs Predictions Modele - 3vars_sans_log\", size=15, color=\"purple\")\n",
    "\n",
    "plt.subplot(1, 2, 2)\n",
    "sns.distplot(Y-predict, color='purple')\n",
    "plt.grid(color=\"black\", linestyle=':', linewidth=0.5)\n",
    "plt.title(\"Histogramme Residus Modele - 3vars_sans_log\", size=15, color=\"purple\")\n",
    "plt.savefig('OUTFILES/M4-Residus_3var_sans_log.png', dpi=100, bbox_inches='tight')\n",
    "plt.show()\n",
    "plt.close()"
   ]
  },
  {
   "cell_type": "markdown",
   "metadata": {},
   "source": [
    "<font size=3> Mêmes constations quasiement que pour le modèle a 2 variables sans logarithmes.</font>  \n",
    "<font color=\"darkred\" size=4>    \n",
    "* Pas de relation linéaire évidente : nuage de point mal centré sur l'axe Y=0 (gauche).  \n",
    "* Distribution des \"résidus\" non gaussienne (figure droite).</font>"
   ]
  },
  {
   "cell_type": "markdown",
   "metadata": {},
   "source": [
    "<font color=\"darkblue\" size=3>Version <b>3 vars <u>AVEC</u></b> Logarithmes </font>"
   ]
  },
  {
   "cell_type": "code",
   "execution_count": 28,
   "metadata": {},
   "outputs": [
    {
     "name": "stdout",
     "output_type": "stream",
     "text": [
      "Variance expliquée (Coeff.R²) = :  67.19000000000001 (%)\n"
     ]
    }
   ],
   "source": [
    "X = dfreglin3log[['gdpppp', 'gini', 'c_i_parent']]\n",
    "Y = dfreglin3log['income'].values\n",
    "var, a, b, predict = reglin(X,Y)\n",
    "print(\"Variance expliquée (Coeff.R²) = : \", round(var, 4)*100, \"(%)\")"
   ]
  },
  {
   "cell_type": "markdown",
   "metadata": {},
   "source": [
    "Tableau Recap avec <b>Statsmodel</b></font>"
   ]
  },
  {
   "cell_type": "code",
   "execution_count": 29,
   "metadata": {},
   "outputs": [
    {
     "name": "stdout",
     "output_type": "stream",
     "text": [
      "                            OLS Regression Results                            \n",
      "==============================================================================\n",
      "Dep. Variable:                 income   R-squared:                       0.672\n",
      "Model:                            OLS   Adj. R-squared:                  0.672\n",
      "Method:                 Least Squares   F-statistic:                 3.823e+06\n",
      "Date:                Thu, 21 May 2020   Prob (F-statistic):               0.00\n",
      "Time:                        18:31:33   Log-Likelihood:            -6.6402e+06\n",
      "No. Observations:             5600000   AIC:                         1.328e+07\n",
      "Df Residuals:                 5599996   BIC:                         1.328e+07\n",
      "Df Model:                           3                                         \n",
      "Covariance Type:            nonrobust                                         \n",
      "==============================================================================\n",
      "                 coef    std err          t      P>|t|      [0.025      0.975]\n",
      "------------------------------------------------------------------------------\n",
      "Intercept      0.6803      0.003    197.328      0.000       0.674       0.687\n",
      "gdpppp         0.8664      0.000   3065.962      0.000       0.866       0.867\n",
      "gini          -0.0171   4.32e-05   -396.565      0.000      -0.017      -0.017\n",
      "c_i_parent     0.0074   1.56e-05    470.339      0.000       0.007       0.007\n",
      "==============================================================================\n",
      "Omnibus:                   198273.625   Durbin-Watson:                   0.001\n",
      "Prob(Omnibus):                  0.000   Jarque-Bera (JB):           582940.000\n",
      "Skew:                          -0.049   Prob(JB):                         0.00\n",
      "Kurtosis:                       4.578   Cond. No.                         506.\n",
      "==============================================================================\n",
      "\n",
      "Warnings:\n",
      "[1] Standard Errors assume that the covariance matrix of the errors is correctly specified.\n"
     ]
    }
   ],
   "source": [
    "reglin3log = smf.ols('income~gdpppp+gini+c_i_parent', data=dfreglin3log).fit()\n",
    "print(reglin3log.summary())"
   ]
  },
  {
   "cell_type": "markdown",
   "metadata": {},
   "source": [
    "<font color=\"darkblue\" size=3>Analyse des <b>Residus</b> du modèle <b>3vars_avec_log</b></font> \n",
    "\n",
    "Sachant qu'il y a <b>67.2(%)</b> de Variance expliquée (Coeff.R²) par ce modèle, \n",
    "\n",
    "> RESIDUS $=>$ <b>32,8(%)</b> de variance non expliquée"
   ]
  },
  {
   "cell_type": "code",
   "execution_count": 30,
   "metadata": {},
   "outputs": [
    {
     "data": {
      "image/png": "[encoded data removed]",
      "text/plain": [
       "<Figure size 1080x360 with 2 Axes>"
      ]
     },
     "metadata": {},
     "output_type": "display_data"
    }
   ],
   "source": [
    "fig, ax = plt.subplots(figsize=[15,5])\n",
    "plt.subplot(1, 2, 1)\n",
    "plt.plot(predict, Y-predict,'.', color=\"darkgreen\")\n",
    "plt.grid(color=\"black\", linestyle=':', linewidth=0.5)\n",
    "plt.xlabel(\"Revenu (predict)\", size=13)\n",
    "plt.ylabel(\"Redidus\", size=13)\n",
    "plt.title(\"Residus vs Predictions Modele - 3vars_avec_log\", size=15, color=\"darkgreen\")\n",
    "\n",
    "plt.subplot(1, 2, 2)\n",
    "sns.distplot(Y-predict, color='darkgreen')\n",
    "plt.grid(color=\"black\", linestyle=':', linewidth=0.5)\n",
    "plt.title(\"Histogramme Residus Modele - 3vars_avec_log\", size=15, color=\"darkgreen\")\n",
    "plt.savefig('OUTFILES/M4-Residus_3var_avec_log.png', dpi=100, bbox_inches='tight')\n",
    "plt.show()\n",
    "plt.close()"
   ]
  },
  {
   "cell_type": "markdown",
   "metadata": {},
   "source": [
    "<font color=\"darkblue\" size=4>    \n",
    "* Ici, on constate mieux la realtion linéaire, le nuage de point paraissant centré sur l'axe Y=0 (figure gauche).  \n",
    "* La distribution des \"résidus\" de ce modèle semble suivre une une loi normale (gaussienne) (figure droite).\n",
    "\n",
    "<b>Ce modèle semble donc le meilleur des 4 étudiés pour expliquer au plus juste le revenu d'une personne.</b>\n",
    "</font>"
   ]
  },
  {
   "cell_type": "markdown",
   "metadata": {},
   "source": [
    "<hr style=\"height: 2px; color: #839D2D; width: 100%; \">\n",
    "\n",
    "### Question :\n",
    "<br>\n",
    "<font color=\"darkblue\" size=4>\n",
    "    \n",
    "> En observant le coefficient de régression associé à l’indice de Gini, peut-on affirmer que le fait de vivre dans un pays plus inégalitaire favorise plus de personnes qu’il n’en défavorise ?\n",
    "</font>\n",
    "\n"
   ]
  },
  {
   "cell_type": "code",
   "execution_count": 31,
   "metadata": {},
   "outputs": [
    {
     "data": {
      "text/html": [
       "<div>\n",
       "<style scoped>\n",
       "    .dataframe tbody tr th:only-of-type {\n",
       "        vertical-align: middle;\n",
       "    }\n",
       "\n",
       "    .dataframe tbody tr th {\n",
       "        vertical-align: top;\n",
       "    }\n",
       "\n",
       "    .dataframe thead th {\n",
       "        text-align: right;\n",
       "    }\n",
       "</style>\n",
       "<table border=\"1\" class=\"dataframe\">\n",
       "  <thead>\n",
       "    <tr style=\"text-align: right;\">\n",
       "      <th></th>\n",
       "      <th>income</th>\n",
       "      <th>gini</th>\n",
       "      <th>gdpppp</th>\n",
       "      <th>c_i_parent</th>\n",
       "    </tr>\n",
       "  </thead>\n",
       "  <tbody>\n",
       "    <tr>\n",
       "      <th>0</th>\n",
       "      <td>6.592</td>\n",
       "      <td>30.300</td>\n",
       "      <td>8.895</td>\n",
       "      <td>1</td>\n",
       "    </tr>\n",
       "    <tr>\n",
       "      <th>1</th>\n",
       "      <td>6.592</td>\n",
       "      <td>30.300</td>\n",
       "      <td>8.895</td>\n",
       "      <td>1</td>\n",
       "    </tr>\n",
       "    <tr>\n",
       "      <th>2</th>\n",
       "      <td>6.592</td>\n",
       "      <td>30.300</td>\n",
       "      <td>8.895</td>\n",
       "      <td>1</td>\n",
       "    </tr>\n",
       "    <tr>\n",
       "      <th>3</th>\n",
       "      <td>6.592</td>\n",
       "      <td>30.300</td>\n",
       "      <td>8.895</td>\n",
       "      <td>1</td>\n",
       "    </tr>\n",
       "    <tr>\n",
       "      <th>4</th>\n",
       "      <td>6.592</td>\n",
       "      <td>30.300</td>\n",
       "      <td>8.895</td>\n",
       "      <td>1</td>\n",
       "    </tr>\n",
       "    <tr>\n",
       "      <th>...</th>\n",
       "      <td>...</td>\n",
       "      <td>...</td>\n",
       "      <td>...</td>\n",
       "      <td>...</td>\n",
       "    </tr>\n",
       "    <tr>\n",
       "      <th>5599995</th>\n",
       "      <td>11.319</td>\n",
       "      <td>63.733</td>\n",
       "      <td>9.170</td>\n",
       "      <td>16</td>\n",
       "    </tr>\n",
       "    <tr>\n",
       "      <th>5599996</th>\n",
       "      <td>11.319</td>\n",
       "      <td>63.733</td>\n",
       "      <td>9.170</td>\n",
       "      <td>16</td>\n",
       "    </tr>\n",
       "    <tr>\n",
       "      <th>5599997</th>\n",
       "      <td>11.319</td>\n",
       "      <td>63.733</td>\n",
       "      <td>9.170</td>\n",
       "      <td>16</td>\n",
       "    </tr>\n",
       "    <tr>\n",
       "      <th>5599998</th>\n",
       "      <td>11.319</td>\n",
       "      <td>63.733</td>\n",
       "      <td>9.170</td>\n",
       "      <td>16</td>\n",
       "    </tr>\n",
       "    <tr>\n",
       "      <th>5599999</th>\n",
       "      <td>11.319</td>\n",
       "      <td>63.733</td>\n",
       "      <td>9.170</td>\n",
       "      <td>16</td>\n",
       "    </tr>\n",
       "  </tbody>\n",
       "</table>\n",
       "<p>5600000 rows × 4 columns</p>\n",
       "</div>"
      ],
      "text/plain": [
       "         income   gini  gdpppp  c_i_parent\n",
       "0         6.592 30.300   8.895           1\n",
       "1         6.592 30.300   8.895           1\n",
       "2         6.592 30.300   8.895           1\n",
       "3         6.592 30.300   8.895           1\n",
       "4         6.592 30.300   8.895           1\n",
       "...         ...    ...     ...         ...\n",
       "5599995  11.319 63.733   9.170          16\n",
       "5599996  11.319 63.733   9.170          16\n",
       "5599997  11.319 63.733   9.170          16\n",
       "5599998  11.319 63.733   9.170          16\n",
       "5599999  11.319 63.733   9.170          16\n",
       "\n",
       "[5600000 rows x 4 columns]"
      ]
     },
     "execution_count": 31,
     "metadata": {},
     "output_type": "execute_result"
    }
   ],
   "source": [
    "dfreglin3log"
   ]
  },
  {
   "cell_type": "code",
   "execution_count": 32,
   "metadata": {},
   "outputs": [
    {
     "data": {
      "image/png": "[encoded data removed]",
      "text/plain": [
       "<Figure size 1080x504 with 1 Axes>"
      ]
     },
     "metadata": {},
     "output_type": "display_data"
    }
   ],
   "source": [
    "x_gini = np.arange(20, dfreglin3log['gini'].max()+5)\n",
    "y_gini = a[1]*x_gini + 8\n",
    "xg = dfreglin3log['gini']\n",
    "yg = dfreglin3log['income']\n",
    "fig, ax = plt.subplots(figsize=[15,7])\n",
    "plt.plot(xg, yg,'.', color=\"darkgreen\")\n",
    "plt.plot(x_gini, y_gini, '-g')\n",
    "plt.grid(color=\"black\", linestyle=':', linewidth=0.5)\n",
    "plt.xlabel(\"Indices de Gini\", size=13)\n",
    "plt.ylabel(\"Logarithme des Revenus\", size=13)\n",
    "plt.title(\"Régression linéaire des revenus par coefficient de Gini\", size=15, color=\"darkgreen\")\n",
    "plt.show()"
   ]
  },
  {
   "cell_type": "markdown",
   "metadata": {},
   "source": [
    "### Réponse :\n",
    "<br>\n",
    "<font color=\"darkgreen\" size=4>\n",
    "    \n",
    "> L'indice de Gini va de 0 (égalité parfaite) à 1 (inégalité parfaite).   \n",
    "Le coefficient directeur de la droite de regression linéaire de gini étant négatif, plus l'indice de Gini va augmenter, plus les revenus vont diminuer.  \n",
    "Donc NON, on ne peut pas affirmer que le fait de vivre dans un pays plus inégalitaire plus de personnes qu'il n'en dévavorise.\n",
    "</font>\n",
    "\n"
   ]
  },
  {
   "cell_type": "markdown",
   "metadata": {},
   "source": [
    "<hr style=\"height: 3px; color: #839D2D; width: 100%; \">\n",
    "\n",
    "##  <font color='#61210B'><u>M4 - ANALYSE APPROFONDIE DES RESIDUS DU MODELE  3_VARS_AVEC_LOG</u></font>\n",
    "\n",
    "\n",
    "* Nous allons ici réaliser les tests à un niveau α=5%\n",
    "* Récupérons n, le nombre d'individus de l'échantillon, et p , le nombre de variables.\n"
   ]
  },
  {
   "cell_type": "markdown",
   "metadata": {},
   "source": [
    "<img src=\"DATA/images/Bon_Residu.png\" width=\"500\" align=left>\n"
   ]
  },
  {
   "cell_type": "code",
   "execution_count": 33,
   "metadata": {},
   "outputs": [],
   "source": [
    "n = dfreglin3log.shape[0]\n",
    "p = 3\n",
    "alpha = 0.05"
   ]
  },
  {
   "cell_type": "code",
   "execution_count": 34,
   "metadata": {},
   "outputs": [
    {
     "data": {
      "text/html": [
       "<div>\n",
       "<style scoped>\n",
       "    .dataframe tbody tr th:only-of-type {\n",
       "        vertical-align: middle;\n",
       "    }\n",
       "\n",
       "    .dataframe tbody tr th {\n",
       "        vertical-align: top;\n",
       "    }\n",
       "\n",
       "    .dataframe thead th {\n",
       "        text-align: right;\n",
       "    }\n",
       "</style>\n",
       "<table border=\"1\" class=\"dataframe\">\n",
       "  <thead>\n",
       "    <tr style=\"text-align: right;\">\n",
       "      <th></th>\n",
       "      <th>income</th>\n",
       "      <th>gini</th>\n",
       "      <th>gdpppp</th>\n",
       "      <th>c_i_parent</th>\n",
       "    </tr>\n",
       "  </thead>\n",
       "  <tbody>\n",
       "    <tr>\n",
       "      <th>0</th>\n",
       "      <td>6.592</td>\n",
       "      <td>30.300</td>\n",
       "      <td>8.895</td>\n",
       "      <td>1</td>\n",
       "    </tr>\n",
       "    <tr>\n",
       "      <th>1</th>\n",
       "      <td>6.592</td>\n",
       "      <td>30.300</td>\n",
       "      <td>8.895</td>\n",
       "      <td>1</td>\n",
       "    </tr>\n",
       "    <tr>\n",
       "      <th>2</th>\n",
       "      <td>6.592</td>\n",
       "      <td>30.300</td>\n",
       "      <td>8.895</td>\n",
       "      <td>1</td>\n",
       "    </tr>\n",
       "    <tr>\n",
       "      <th>3</th>\n",
       "      <td>6.592</td>\n",
       "      <td>30.300</td>\n",
       "      <td>8.895</td>\n",
       "      <td>1</td>\n",
       "    </tr>\n",
       "    <tr>\n",
       "      <th>4</th>\n",
       "      <td>6.592</td>\n",
       "      <td>30.300</td>\n",
       "      <td>8.895</td>\n",
       "      <td>1</td>\n",
       "    </tr>\n",
       "  </tbody>\n",
       "</table>\n",
       "</div>"
      ],
      "text/plain": [
       "   income   gini  gdpppp  c_i_parent\n",
       "0   6.592 30.300   8.895           1\n",
       "1   6.592 30.300   8.895           1\n",
       "2   6.592 30.300   8.895           1\n",
       "3   6.592 30.300   8.895           1\n",
       "4   6.592 30.300   8.895           1"
      ]
     },
     "execution_count": 34,
     "metadata": {},
     "output_type": "execute_result"
    }
   ],
   "source": [
    "dfreglin3log.head()"
   ]
  },
  {
   "cell_type": "code",
   "execution_count": 35,
   "metadata": {
    "scrolled": false
   },
   "outputs": [
    {
     "name": "stdout",
     "output_type": "stream",
     "text": [
      "                            OLS Regression Results                            \n",
      "==============================================================================\n",
      "Dep. Variable:                 income   R-squared:                       0.672\n",
      "Model:                            OLS   Adj. R-squared:                  0.672\n",
      "Method:                 Least Squares   F-statistic:                 3.823e+06\n",
      "Date:                Thu, 21 May 2020   Prob (F-statistic):               0.00\n",
      "Time:                        18:32:05   Log-Likelihood:            -6.6402e+06\n",
      "No. Observations:             5600000   AIC:                         1.328e+07\n",
      "Df Residuals:                 5599996   BIC:                         1.328e+07\n",
      "Df Model:                           3                                         \n",
      "Covariance Type:            nonrobust                                         \n",
      "==============================================================================\n",
      "                 coef    std err          t      P>|t|      [0.025      0.975]\n",
      "------------------------------------------------------------------------------\n",
      "Intercept      0.6803      0.003    197.328      0.000       0.674       0.687\n",
      "gdpppp         0.8664      0.000   3065.962      0.000       0.866       0.867\n",
      "gini          -0.0171   4.32e-05   -396.565      0.000      -0.017      -0.017\n",
      "c_i_parent     0.0074   1.56e-05    470.339      0.000       0.007       0.007\n",
      "==============================================================================\n",
      "Omnibus:                   198273.625   Durbin-Watson:                   0.001\n",
      "Prob(Omnibus):                  0.000   Jarque-Bera (JB):           582940.000\n",
      "Skew:                          -0.049   Prob(JB):                         0.00\n",
      "Kurtosis:                       4.578   Cond. No.                         506.\n",
      "==============================================================================\n",
      "\n",
      "Warnings:\n",
      "[1] Standard Errors assume that the covariance matrix of the errors is correctly specified.\n"
     ]
    }
   ],
   "source": [
    "print(reglin3log.summary())"
   ]
  },
  {
   "cell_type": "markdown",
   "metadata": {},
   "source": [
    "Nous allons mener des analyses sur les valeurs atypiques et/ou influentes en travaillant sur un dataframe appelé analyses."
   ]
  },
  {
   "cell_type": "code",
   "execution_count": 36,
   "metadata": {},
   "outputs": [],
   "source": [
    "analyses = pd.DataFrame({'obs':np.arange(1, n+1)})"
   ]
  },
  {
   "cell_type": "markdown",
   "metadata": {},
   "source": [
    "## Calcul des leviers  (observation atypique)\n",
    "\n",
    "Un levier est considéré comme un point atypique.  \n",
    "On peut calculer les leviers comme ceci, en sachant que le seuil des leviers est de :  \n",
    "> $ Seuil = 2∗\\frac{p+1}{n}$.\n",
    "\n",
    "<img src=\"DATA/images/Levier_effet.png\" width=\"500\" align=left>"
   ]
  },
  {
   "cell_type": "code",
   "execution_count": 37,
   "metadata": {
    "scrolled": false
   },
   "outputs": [],
   "source": [
    "analyses['levier'] = reglin3log.get_influence().hat_matrix_diag\n",
    "seuil_levier = 2*(p+1)/n"
   ]
  },
  {
   "cell_type": "markdown",
   "metadata": {},
   "source": [
    "<i><font color=\"darkblue\" size=4>\n",
    "* Sélection des points pour lesquels le levier est supérieur au seuil\n",
    "* Recherche des pays correspondant</font></i>\n"
   ]
  },
  {
   "cell_type": "code",
   "execution_count": 38,
   "metadata": {},
   "outputs": [
    {
     "name": "stdout",
     "output_type": "stream",
     "text": [
      "Nombre d'observations dont levier > seuil : 285500  soit  5.098 (%) du Dataset\n"
     ]
    },
    {
     "data": {
      "text/html": [
       "<div>\n",
       "<style scoped>\n",
       "    .dataframe tbody tr th:only-of-type {\n",
       "        vertical-align: middle;\n",
       "    }\n",
       "\n",
       "    .dataframe tbody tr th {\n",
       "        vertical-align: top;\n",
       "    }\n",
       "\n",
       "    .dataframe thead th {\n",
       "        text-align: right;\n",
       "    }\n",
       "</style>\n",
       "<table border=\"1\" class=\"dataframe\">\n",
       "  <thead>\n",
       "    <tr style=\"text-align: right;\">\n",
       "      <th></th>\n",
       "      <th>country_code</th>\n",
       "      <th>nb_obs</th>\n",
       "    </tr>\n",
       "  </thead>\n",
       "  <tbody>\n",
       "    <tr>\n",
       "      <th>22</th>\n",
       "      <td>ZAF</td>\n",
       "      <td>50000</td>\n",
       "    </tr>\n",
       "    <tr>\n",
       "      <th>19</th>\n",
       "      <td>TLS</td>\n",
       "      <td>34500</td>\n",
       "    </tr>\n",
       "    <tr>\n",
       "      <th>2</th>\n",
       "      <td>CAF</td>\n",
       "      <td>27500</td>\n",
       "    </tr>\n",
       "    <tr>\n",
       "      <th>15</th>\n",
       "      <td>NOR</td>\n",
       "      <td>21500</td>\n",
       "    </tr>\n",
       "    <tr>\n",
       "      <th>7</th>\n",
       "      <td>GTM</td>\n",
       "      <td>20500</td>\n",
       "    </tr>\n",
       "    <tr>\n",
       "      <th>18</th>\n",
       "      <td>SVN</td>\n",
       "      <td>20500</td>\n",
       "    </tr>\n",
       "    <tr>\n",
       "      <th>20</th>\n",
       "      <td>URY</td>\n",
       "      <td>16000</td>\n",
       "    </tr>\n",
       "    <tr>\n",
       "      <th>14</th>\n",
       "      <td>MYS</td>\n",
       "      <td>13500</td>\n",
       "    </tr>\n",
       "    <tr>\n",
       "      <th>21</th>\n",
       "      <td>YEM</td>\n",
       "      <td>13500</td>\n",
       "    </tr>\n",
       "    <tr>\n",
       "      <th>17</th>\n",
       "      <td>RUS</td>\n",
       "      <td>11000</td>\n",
       "    </tr>\n",
       "  </tbody>\n",
       "</table>\n",
       "</div>"
      ],
      "text/plain": [
       "   country_code  nb_obs\n",
       "22          ZAF   50000\n",
       "19          TLS   34500\n",
       "2           CAF   27500\n",
       "15          NOR   21500\n",
       "7           GTM   20500\n",
       "18          SVN   20500\n",
       "20          URY   16000\n",
       "14          MYS   13500\n",
       "21          YEM   13500\n",
       "17          RUS   11000"
      ]
     },
     "execution_count": 38,
     "metadata": {},
     "output_type": "execute_result"
    }
   ],
   "source": [
    "dflv = analyses[analyses['levier'] > seuil_levier] \n",
    "tx1 = np.round(100*dflv.shape[0]/dfreglin3log.shape[0], 3)\n",
    "print(\"Nombre d'observations dont levier > seuil :\", dflv.shape[0], \" soit \", tx1, \"(%) du Dataset\")\n",
    "err = pd.merge(dflv, wid, left_index=True, right_index=True).drop_duplicates()\n",
    "err.groupby(['country_code']).size()\\\n",
    "                             .reset_index(name='nb_obs')\\\n",
    "                             .sort_values(['nb_obs'], ascending=False) \\\n",
    "                             .head(10)"
   ]
  },
  {
   "cell_type": "markdown",
   "metadata": {},
   "source": [
    "##### Graphe trop long à executer ..."
   ]
  },
  {
   "cell_type": "code",
   "execution_count": 39,
   "metadata": {
    "scrolled": false
   },
   "outputs": [],
   "source": [
    "# x1 = 2049828\n",
    "# plt.figure(figsize=(15,8))\n",
    "# plt.bar(analyses['obs'], analyses['levier'])\n",
    "# plt.xticks(np.arange(0, n, step=5))\n",
    "# plt.xlabel('Observation')\n",
    "# plt.ylabel('Leviers')\n",
    "# plt.plot([0, n], [seuil_levier, seuil_levier], color='r')\n",
    "# plt.xlim(x1-10,X1+190)\n",
    "# plt.show()"
   ]
  },
  {
   "cell_type": "markdown",
   "metadata": {},
   "source": [
    "## Calcul des résidus studentisés\n",
    "\n",
    "Si l'on souhaite maintenant calculer les résidus studentisés, nous écrivons ceci, sachant que le seuil pour les résidus studentisés est une loi de Student à n-p-1 degrés de liberté :"
   ]
  },
  {
   "cell_type": "code",
   "execution_count": 40,
   "metadata": {},
   "outputs": [],
   "source": [
    "analyses['rstudent'] = reglin3log.get_influence().resid_studentized_internal\n",
    "seuil_rstudent = t.ppf(1-alpha/2,n-p-1)"
   ]
  },
  {
   "cell_type": "markdown",
   "metadata": {},
   "source": [
    "<i><font color=\"darkblue\" size=4>\n",
    "* Sélection des points pour lesquels les residus ne sont pas compris entre les bornes du seuil\n",
    "* Recherche des pays correspondant</font></i>"
   ]
  },
  {
   "cell_type": "code",
   "execution_count": 41,
   "metadata": {
    "scrolled": false
   },
   "outputs": [
    {
     "name": "stdout",
     "output_type": "stream",
     "text": [
      "Nombre d'observations dont residus hors seuil : 297000  soit  5.304 (%) du Dataset\n"
     ]
    },
    {
     "data": {
      "text/html": [
       "<div>\n",
       "<style scoped>\n",
       "    .dataframe tbody tr th:only-of-type {\n",
       "        vertical-align: middle;\n",
       "    }\n",
       "\n",
       "    .dataframe tbody tr th {\n",
       "        vertical-align: top;\n",
       "    }\n",
       "\n",
       "    .dataframe thead th {\n",
       "        text-align: right;\n",
       "    }\n",
       "</style>\n",
       "<table border=\"1\" class=\"dataframe\">\n",
       "  <thead>\n",
       "    <tr style=\"text-align: right;\">\n",
       "      <th></th>\n",
       "      <th>country_code</th>\n",
       "      <th>nb_obs</th>\n",
       "    </tr>\n",
       "  </thead>\n",
       "  <tbody>\n",
       "    <tr>\n",
       "      <th>93</th>\n",
       "      <td>SWZ</td>\n",
       "      <td>21500</td>\n",
       "    </tr>\n",
       "    <tr>\n",
       "      <th>40</th>\n",
       "      <td>HND</td>\n",
       "      <td>11500</td>\n",
       "    </tr>\n",
       "    <tr>\n",
       "      <th>104</th>\n",
       "      <td>ZAF</td>\n",
       "      <td>11000</td>\n",
       "    </tr>\n",
       "    <tr>\n",
       "      <th>10</th>\n",
       "      <td>BOL</td>\n",
       "      <td>10000</td>\n",
       "    </tr>\n",
       "    <tr>\n",
       "      <th>75</th>\n",
       "      <td>NIC</td>\n",
       "      <td>7000</td>\n",
       "    </tr>\n",
       "    <tr>\n",
       "      <th>20</th>\n",
       "      <td>COL</td>\n",
       "      <td>7000</td>\n",
       "    </tr>\n",
       "    <tr>\n",
       "      <th>17</th>\n",
       "      <td>CIV</td>\n",
       "      <td>6500</td>\n",
       "    </tr>\n",
       "    <tr>\n",
       "      <th>11</th>\n",
       "      <td>BRA</td>\n",
       "      <td>6000</td>\n",
       "    </tr>\n",
       "    <tr>\n",
       "      <th>65</th>\n",
       "      <td>MEX</td>\n",
       "      <td>6000</td>\n",
       "    </tr>\n",
       "    <tr>\n",
       "      <th>79</th>\n",
       "      <td>PAN</td>\n",
       "      <td>6000</td>\n",
       "    </tr>\n",
       "  </tbody>\n",
       "</table>\n",
       "</div>"
      ],
      "text/plain": [
       "    country_code  nb_obs\n",
       "93           SWZ   21500\n",
       "40           HND   11500\n",
       "104          ZAF   11000\n",
       "10           BOL   10000\n",
       "75           NIC    7000\n",
       "20           COL    7000\n",
       "17           CIV    6500\n",
       "11           BRA    6000\n",
       "65           MEX    6000\n",
       "79           PAN    6000"
      ]
     },
     "execution_count": 41,
     "metadata": {},
     "output_type": "execute_result"
    }
   ],
   "source": [
    "dfrs = analyses[abs(analyses['rstudent']) > seuil_rstudent] \n",
    "tx1 = np.round(100*dfrs.shape[0]/dfreglin3log.shape[0], 3)\n",
    "print(\"Nombre d'observations dont residus hors seuil :\", dfrs.shape[0], \" soit \", tx1, \"(%) du Dataset\")#### GRAPHE TROP LONG A EXECUTER SUR CE DATASET\n",
    "\n",
    "err = pd.merge(dfrs, wid, left_index=True, right_index=True).drop_duplicates()\n",
    "err.groupby(['country_code']).size()\\\n",
    "                             .reset_index(name='nb_obs')\\\n",
    "                             .sort_values(['nb_obs'], ascending=False) \\\n",
    "                             .head(10)"
   ]
  },
  {
   "cell_type": "markdown",
   "metadata": {},
   "source": [
    "##### Graphe trop long à executer ..."
   ]
  },
  {
   "cell_type": "code",
   "execution_count": 42,
   "metadata": {
    "scrolled": false
   },
   "outputs": [],
   "source": [
    "# x1 = 2099829\n",
    "# plt.figure(figsize=(15,8))\n",
    "# plt.bar(analyses['obs'], analyses['rstudent'])\n",
    "# plt.xticks(np.arange(0, n, step=10))\n",
    "# plt.xlabel('Observation')\n",
    "# plt.ylabel('Résidus studentisés')\n",
    "# plt.plot([0, n], [seuil_rstudent, seuil_rstudent], color='r')\n",
    "# plt.plot([0, n], [-seuil_rstudent, -seuil_rstudent], color='r')\n",
    "# plt.xlim(x1-10,X1+190)\n",
    "# plt.show()"
   ]
  },
  {
   "cell_type": "markdown",
   "metadata": {},
   "source": [
    "## Détermination de la distance de Cook\n",
    "\n",
    "On considèrera que les observations sont très influentes si \n",
    "> <font size=4>$ Seuil = {\\displaystyle D_{i}>{\\frac{4}{(n-p)}} }$ </font>\n",
    "\n",
    "Pour trouver la distance de Cook, nous exécutons ceci :\n",
    "\n",
    "<font color=\"darkred\" size=5> Durée extremement longue sur dfreglin3log - choix etude sur dfreglin2log </font>"
   ]
  },
  {
   "cell_type": "code",
   "execution_count": 43,
   "metadata": {},
   "outputs": [
    {
     "data": {
      "text/html": [
       "<div>\n",
       "<style scoped>\n",
       "    .dataframe tbody tr th:only-of-type {\n",
       "        vertical-align: middle;\n",
       "    }\n",
       "\n",
       "    .dataframe tbody tr th {\n",
       "        vertical-align: top;\n",
       "    }\n",
       "\n",
       "    .dataframe thead th {\n",
       "        text-align: right;\n",
       "    }\n",
       "</style>\n",
       "<table border=\"1\" class=\"dataframe\">\n",
       "  <thead>\n",
       "    <tr style=\"text-align: right;\">\n",
       "      <th></th>\n",
       "      <th>income</th>\n",
       "      <th>gini</th>\n",
       "      <th>gdpppp</th>\n",
       "    </tr>\n",
       "  </thead>\n",
       "  <tbody>\n",
       "    <tr>\n",
       "      <th>0</th>\n",
       "      <td>6.592</td>\n",
       "      <td>30.300</td>\n",
       "      <td>8.895</td>\n",
       "    </tr>\n",
       "    <tr>\n",
       "      <th>1</th>\n",
       "      <td>6.821</td>\n",
       "      <td>30.300</td>\n",
       "      <td>8.895</td>\n",
       "    </tr>\n",
       "    <tr>\n",
       "      <th>2</th>\n",
       "      <td>6.919</td>\n",
       "      <td>30.300</td>\n",
       "      <td>8.895</td>\n",
       "    </tr>\n",
       "    <tr>\n",
       "      <th>3</th>\n",
       "      <td>6.991</td>\n",
       "      <td>30.300</td>\n",
       "      <td>8.895</td>\n",
       "    </tr>\n",
       "    <tr>\n",
       "      <th>4</th>\n",
       "      <td>7.032</td>\n",
       "      <td>30.300</td>\n",
       "      <td>8.895</td>\n",
       "    </tr>\n",
       "  </tbody>\n",
       "</table>\n",
       "</div>"
      ],
      "text/plain": [
       "   income   gini  gdpppp\n",
       "0   6.592 30.300   8.895\n",
       "1   6.821 30.300   8.895\n",
       "2   6.919 30.300   8.895\n",
       "3   6.991 30.300   8.895\n",
       "4   7.032 30.300   8.895"
      ]
     },
     "execution_count": 43,
     "metadata": {},
     "output_type": "execute_result"
    }
   ],
   "source": [
    "n = dfreglin2log.shape[0]\n",
    "p = 2\n",
    "analyses2 = pd.DataFrame({'obs':np.arange(1, n+1)})\n",
    "dfreglin2log.head()"
   ]
  },
  {
   "cell_type": "code",
   "execution_count": 44,
   "metadata": {},
   "outputs": [],
   "source": [
    "influence = reglin2log.get_influence().summary_frame()\n",
    "analyses2['dcooks'] = influence['cooks_d']\n",
    "seuil_dcook = 4/(n-p)"
   ]
  },
  {
   "cell_type": "markdown",
   "metadata": {},
   "source": [
    "<i><font color=\"darkblue\" size=4>\n",
    "* Sélection des points pour lesquels la distance de cook est supérieure au seuil\n",
    "* Recherche des pays correspondant</font></i>\n"
   ]
  },
  {
   "cell_type": "code",
   "execution_count": 45,
   "metadata": {},
   "outputs": [
    {
     "name": "stdout",
     "output_type": "stream",
     "text": [
      "Nombre d'observations dont la distance de Cook est > seuil : 642  soit  5.732 (%) du Dataset\n"
     ]
    },
    {
     "data": {
      "text/html": [
       "<div>\n",
       "<style scoped>\n",
       "    .dataframe tbody tr th:only-of-type {\n",
       "        vertical-align: middle;\n",
       "    }\n",
       "\n",
       "    .dataframe tbody tr th {\n",
       "        vertical-align: top;\n",
       "    }\n",
       "\n",
       "    .dataframe thead th {\n",
       "        text-align: right;\n",
       "    }\n",
       "</style>\n",
       "<table border=\"1\" class=\"dataframe\">\n",
       "  <thead>\n",
       "    <tr style=\"text-align: right;\">\n",
       "      <th></th>\n",
       "      <th>country_code</th>\n",
       "      <th>nb_obs</th>\n",
       "    </tr>\n",
       "  </thead>\n",
       "  <tbody>\n",
       "    <tr>\n",
       "      <th>83</th>\n",
       "      <td>ZAF</td>\n",
       "      <td>54</td>\n",
       "    </tr>\n",
       "    <tr>\n",
       "      <th>74</th>\n",
       "      <td>SWZ</td>\n",
       "      <td>50</td>\n",
       "    </tr>\n",
       "    <tr>\n",
       "      <th>33</th>\n",
       "      <td>HND</td>\n",
       "      <td>36</td>\n",
       "    </tr>\n",
       "    <tr>\n",
       "      <th>9</th>\n",
       "      <td>CAF</td>\n",
       "      <td>34</td>\n",
       "    </tr>\n",
       "    <tr>\n",
       "      <th>45</th>\n",
       "      <td>LBR</td>\n",
       "      <td>33</td>\n",
       "    </tr>\n",
       "    <tr>\n",
       "      <th>16</th>\n",
       "      <td>COL</td>\n",
       "      <td>26</td>\n",
       "    </tr>\n",
       "    <tr>\n",
       "      <th>7</th>\n",
       "      <td>BOL</td>\n",
       "      <td>25</td>\n",
       "    </tr>\n",
       "    <tr>\n",
       "      <th>8</th>\n",
       "      <td>BRA</td>\n",
       "      <td>25</td>\n",
       "    </tr>\n",
       "    <tr>\n",
       "      <th>63</th>\n",
       "      <td>PAN</td>\n",
       "      <td>23</td>\n",
       "    </tr>\n",
       "    <tr>\n",
       "      <th>32</th>\n",
       "      <td>GTM</td>\n",
       "      <td>19</td>\n",
       "    </tr>\n",
       "  </tbody>\n",
       "</table>\n",
       "</div>"
      ],
      "text/plain": [
       "   country_code  nb_obs\n",
       "83          ZAF      54\n",
       "74          SWZ      50\n",
       "33          HND      36\n",
       "9           CAF      34\n",
       "45          LBR      33\n",
       "16          COL      26\n",
       "7           BOL      25\n",
       "8           BRA      25\n",
       "63          PAN      23\n",
       "32          GTM      19"
      ]
     },
     "execution_count": 45,
     "metadata": {},
     "output_type": "execute_result"
    }
   ],
   "source": [
    "dfck = analyses2[abs(analyses2['dcooks']) > seuil_dcook] \n",
    "tx1 = np.round(100*dfck.shape[0]/dfreglin2log.shape[0], 3)\n",
    "print(\"Nombre d'observations dont la distance de Cook est > seuil :\", dfck.shape[0], \" soit \", tx1, \"(%) du Dataset\")\n",
    "err = pd.merge(dfck, pj7, left_index=True, right_index=True).drop_duplicates()\n",
    "err.groupby(['country_code']).size()\\\n",
    "                             .reset_index(name='nb_obs')\\\n",
    "                             .sort_values(['nb_obs'], ascending=False) \\\n",
    "                             .head(10)"
   ]
  },
  {
   "cell_type": "markdown",
   "metadata": {},
   "source": [
    "##### Graphe trop long à executer ..."
   ]
  },
  {
   "cell_type": "code",
   "execution_count": 46,
   "metadata": {
    "scrolled": false
   },
   "outputs": [],
   "source": [
    "# x1 = 11100\n",
    "# plt.figure(figsize=(15,8))\n",
    "# plt.bar(analyses['obs'], analyses['dcooks'])\n",
    "# plt.xticks(np.arange(0, n, step=5))\n",
    "# plt.xlabel('Observation')\n",
    "# plt.ylabel('Distance Cook')\n",
    "# plt.plot([0, n], [seuil_dcook, seuil_dcook], color='r')\n",
    "# plt.xlim(x1-10,X1+190)\n",
    "# plt.ylim(0,0.04)\n",
    "# plt.show()"
   ]
  },
  {
   "cell_type": "markdown",
   "metadata": {},
   "source": [
    "<font color=\"darkred\" size=4>On ne retire des points qu'après avoir vérifié qu'ils sont effectivement atypiques, voire aberrants, au vu du modèle estimé.</font>\n",
    "\n",
    "## Test de l’homoscédasticité\n",
    "\n",
    "On peut également tester l’homoscédasticité (c'est-à-dire la constance de la variance) des résidus :"
   ]
  },
  {
   "cell_type": "code",
   "execution_count": 47,
   "metadata": {
    "scrolled": false
   },
   "outputs": [
    {
     "name": "stdout",
     "output_type": "stream",
     "text": [
      "p value test Breusch Pagan: 0.0\n"
     ]
    }
   ],
   "source": [
    "variables = reglin3log.model.exog\n",
    "from statsmodels.stats.outliers_influence import variance_inflation_factor\n",
    "_, pval, __, f_pval = sm.stats.diagnostic.het_breuschpagan(reglin3log.resid, variables)\n",
    "print('p value test Breusch Pagan:', pval)"
   ]
  },
  {
   "cell_type": "markdown",
   "metadata": {},
   "source": [
    "La p-valeur ici est très nettemenent inférieure au seuil de $5$% :   \n",
    "On rejette donc l'hypothèse nulle $(H0)$ selon laquelle les variances sont constantes (l'hypothèse d’homoscédasticité).\n",
    "\n"
   ]
  },
  {
   "cell_type": "code",
   "execution_count": 48,
   "metadata": {},
   "outputs": [
    {
     "data": {
      "text/plain": [
       "array([-1.28326558, -1.28326558, -1.28326558, ...,  3.66966676,\n",
       "        3.66966676,  3.66966676])"
      ]
     },
     "execution_count": 48,
     "metadata": {},
     "output_type": "execute_result"
    }
   ],
   "source": [
    "#Résidus de reglin3log  :\n",
    "Y-predict"
   ]
  },
  {
   "cell_type": "markdown",
   "metadata": {},
   "source": [
    "## Test de la normalité des résidus\n",
    "\n",
    "Si l'on veut tester la normalité des résidus, on peut faire un test de Shapiro-Wilk."
   ]
  },
  {
   "cell_type": "code",
   "execution_count": 49,
   "metadata": {},
   "outputs": [
    {
     "data": {
      "text/plain": [
       "KstestResult(statistic=0.07536352873668928, pvalue=0.0)"
      ]
     },
     "execution_count": 49,
     "metadata": {},
     "output_type": "execute_result"
    }
   ],
   "source": [
    "###  Test kolmogorov-smirnoff\n",
    "st.kstest(Y-predict, 'norm')"
   ]
  },
  {
   "cell_type": "code",
   "execution_count": 50,
   "metadata": {
    "scrolled": false
   },
   "outputs": [
    {
     "name": "stderr",
     "output_type": "stream",
     "text": [
      "C:\\Users\\boiss\\Anaconda3\\lib\\site-packages\\scipy\\stats\\morestats.py:1660: UserWarning: p-value may not be accurate for N > 5000.\n",
      "  warnings.warn(\"p-value may not be accurate for N > 5000.\")\n"
     ]
    },
    {
     "data": {
      "text/plain": [
       "(0.9962407946586609, 0.0)"
      ]
     },
     "execution_count": 50,
     "metadata": {},
     "output_type": "execute_result"
    }
   ],
   "source": [
    "shapiro(reglin3log.resid)"
   ]
  },
  {
   "cell_type": "markdown",
   "metadata": {},
   "source": [
    "Ici, l'hypothèse de normalité est remise en cause (p-value = 0.0 < 0.05).\n",
    "\n",
    "Néanmoins, l'observation des résidus, le fait qu'ils ne soient pas très différents d'une distribution symétrique, et le fait que l'échantillon soit de taille gigantesque (5'600'000), permettent de dire que **les résultats obtenus par le modèle linéaire gaussien ne sont pas absurdes**, même si le résidu n'est pas considéré comme étant gaussien par shapiro-Wilk."
   ]
  },
  {
   "cell_type": "code",
   "execution_count": 51,
   "metadata": {},
   "outputs": [
    {
     "data": {
      "image/png": "[encoded data removed]",
      "text/plain": [
       "<Figure size 432x288 with 1 Axes>"
      ]
     },
     "metadata": {},
     "output_type": "display_data"
    }
   ],
   "source": [
    "sns.distplot(Y-predict, color='darkgreen')\n",
    "plt.grid(color=\"black\", linestyle=':', linewidth=0.5)\n",
    "plt.title(\"Histogramme Residus Modele - 3vars_avec_log\", size=15, color=\"darkgreen\")\n",
    "plt.show()"
   ]
  },
  {
   "cell_type": "code",
   "execution_count": 52,
   "metadata": {},
   "outputs": [
    {
     "name": "stdout",
     "output_type": "stream",
     "text": [
      "--- Durée TOTALE du Notebook PJ7_M3 ---  94.49632 seconds\n"
     ]
    }
   ],
   "source": [
    "dureetotale = round(time.time() - trt_start_time, 5)\n",
    "print(\"--- Durée TOTALE du Notebook PJ7_M3 --- \", \"%s seconds\" % dureetotale)"
   ]
  }
 ],
 "metadata": {
  "kernelspec": {
   "display_name": "Python 3",
   "language": "python",
   "name": "python3"
  },
  "language_info": {
   "codemirror_mode": {
    "name": "ipython",
    "version": 3
   },
   "file_extension": ".py",
   "mimetype": "text/x-python",
   "name": "python",
   "nbconvert_exporter": "python",
   "pygments_lexer": "ipython3",
   "version": "3.7.6"
  },
  "varInspector": {
   "cols": {
    "lenName": 16,
    "lenType": 16,
    "lenVar": 40
   },
   "kernels_config": {
    "python": {
     "delete_cmd_postfix": "",
     "delete_cmd_prefix": "del ",
     "library": "var_list.py",
     "varRefreshCmd": "print(var_dic_list())"
    },
    "r": {
     "delete_cmd_postfix": ") ",
     "delete_cmd_prefix": "rm(",
     "library": "var_list.r",
     "varRefreshCmd": "cat(var_dic_list()) "
    }
   },
   "oldHeight": 1102.996666,
   "position": {
    "height": "874.938px",
    "left": "539.302px",
    "right": "20px",
    "top": "178.99px",
    "width": "744.292px"
   },
   "types_to_exclude": [
    "module",
    "function",
    "builtin_function_or_method",
    "instance",
    "_Feature"
   ],
   "varInspector_section_display": "block",
   "window_display": false
  }
 },
 "nbformat": 4,
 "nbformat_minor": 2
}
